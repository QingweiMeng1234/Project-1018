{
 "cells": [
  {
   "cell_type": "code",
   "execution_count": 1,
   "id": "4cbb4b58",
   "metadata": {},
   "outputs": [],
   "source": [
    "import numpy as np\n",
    "import matplotlib.pyplot as plt\n",
    "import pandas as pd\n",
    "\n",
    "\n",
    "import numpy as np\n",
    "import matplotlib.pyplot as plt\n",
    "import pandas as pd\n",
    "import math\n",
    "import random\n",
    "import pylab\n",
    "from collections import Counter\n",
    "import time\n",
    "\n",
    "from sklearn.model_selection import train_test_split\n",
    "\n",
    "import pickle\n",
    "\n"
   ]
  },
  {
   "cell_type": "code",
   "execution_count": 3,
   "id": "a2ee8d5b",
   "metadata": {},
   "outputs": [],
   "source": [
    "readcsv_GenMix_2018_2022=pd.read_csv(r\"..\\ImportData\\GenMix_2018_2022.csv\")\n",
    "\n",
    "GenMix_nanremoved = pd.read_pickle(r\"..\\GenMixAnalysis\\GenMix_nanremoved.pkl\")\n",
    "\n",
    "GenMix_Consolidated = pd.read_pickle(r\"..\\GenMixAnalysis\\GenMix_Consolidated.pkl\")"
   ]
  },
  {
   "cell_type": "code",
   "execution_count": 4,
   "id": "b72a4ec3",
   "metadata": {},
   "outputs": [],
   "source": [
    "\n",
    "GenMix_train, GenMix_test = train_test_split(GenMix_nanremoved,train_size = .8,shuffle= False)"
   ]
  },
  {
   "cell_type": "code",
   "execution_count": 37,
   "id": "4b575e79",
   "metadata": {},
   "outputs": [
    {
     "data": {
      "text/plain": [
       "Index(['Coal Market', 'Coal Self', 'Diesel Fuel Oil Market',\n",
       "       'Diesel Fuel Oil Self', 'Hydro Market', 'Hydro Self',\n",
       "       'Natural Gas Market', 'Natural Gas Self', 'Nuclear Market',\n",
       "       'Nuclear Self', 'Solar Market', 'Solar Self',\n",
       "       'Waste Disposal Services Market', 'Waste Disposal Services Self',\n",
       "       'Wind Market', 'Wind Self', 'Waste Heat Market', 'Waste Heat Self',\n",
       "       'Other Market', 'Other Self', 'Load'],\n",
       "      dtype='object')"
      ]
     },
     "execution_count": 37,
     "metadata": {},
     "output_type": "execute_result"
    }
   ],
   "source": [
    "GenMix_test.columns[1:-1]"
   ]
  },
  {
   "cell_type": "code",
   "execution_count": 39,
   "id": "b85f1fb0",
   "metadata": {},
   "outputs": [],
   "source": [
    "GenMix_Cons_train, GenMix_Cons_test = train_test_split(GenMix_Consolidated,train_size = .8,shuffle= False)"
   ]
  },
  {
   "cell_type": "code",
   "execution_count": 40,
   "id": "5d3290a9",
   "metadata": {},
   "outputs": [],
   "source": [
    "GenMix_test_diff = GenMix_test[GenMix_test.columns[1:-1]].diff().iloc[1:]"
   ]
  },
  {
   "cell_type": "markdown",
   "id": "dcbe814e",
   "metadata": {},
   "source": [
    "Then, can calculate MAE"
   ]
  },
  {
   "cell_type": "code",
   "execution_count": 41,
   "id": "f93e7489",
   "metadata": {},
   "outputs": [
    {
     "data": {
      "text/plain": [
       "Coal Market                       49.826935\n",
       "Coal Self                         28.187079\n",
       "Diesel Fuel Oil Market             0.318047\n",
       "Diesel Fuel Oil Self               0.173122\n",
       "Hydro Market                       3.611130\n",
       "Hydro Self                        10.458861\n",
       "Natural Gas Market                94.105852\n",
       "Natural Gas Self                  40.489110\n",
       "Nuclear Market                     0.000000\n",
       "Nuclear Self                       1.812534\n",
       "Solar Market                       0.000000\n",
       "Solar Self                         3.722123\n",
       "Waste Disposal Services Market     0.043533\n",
       "Waste Disposal Services Self       0.137564\n",
       "Wind Market                        0.000000\n",
       "Wind Self                         96.049933\n",
       "Waste Heat Market                  0.000000\n",
       "Waste Heat Self                    0.000000\n",
       "Other Market                       0.087447\n",
       "Other Self                         0.166608\n",
       "Load                              92.479637\n",
       "dtype: float64"
      ]
     },
     "execution_count": 41,
     "metadata": {},
     "output_type": "execute_result"
    }
   ],
   "source": [
    "GenMix_test_diff.abs().mean()"
   ]
  },
  {
   "cell_type": "markdown",
   "id": "a4e11721",
   "metadata": {},
   "source": [
    "or RMSE"
   ]
  },
  {
   "cell_type": "code",
   "execution_count": 42,
   "id": "858e3ed6",
   "metadata": {
    "scrolled": true
   },
   "outputs": [
    {
     "data": {
      "text/plain": [
       "Coal Market                        79.941408\n",
       "Coal Self                          60.080038\n",
       "Diesel Fuel Oil Market              3.456347\n",
       "Diesel Fuel Oil Self                2.131968\n",
       "Hydro Market                       15.092571\n",
       "Hydro Self                         36.373193\n",
       "Natural Gas Market                157.234587\n",
       "Natural Gas Self                  107.158446\n",
       "Nuclear Market                      0.000000\n",
       "Nuclear Self                        5.313606\n",
       "Solar Market                        0.000000\n",
       "Solar Self                          8.839734\n",
       "Waste Disposal Services Market      0.112659\n",
       "Waste Disposal Services Self        0.249225\n",
       "Wind Market                         0.000000\n",
       "Wind Self                         130.498672\n",
       "Waste Heat Market                   0.000000\n",
       "Waste Heat Self                     0.000000\n",
       "Other Market                        0.709104\n",
       "Other Self                          0.741189\n",
       "Load                              116.867674\n",
       "dtype: float64"
      ]
     },
     "execution_count": 42,
     "metadata": {},
     "output_type": "execute_result"
    }
   ],
   "source": [
    "np.sqrt(GenMix_test_diff.pow(2).mean())"
   ]
  },
  {
   "cell_type": "code",
   "execution_count": 5,
   "id": "13e95945",
   "metadata": {},
   "outputs": [
    {
     "data": {
      "text/html": [
       "<div>\n",
       "<style scoped>\n",
       "    .dataframe tbody tr th:only-of-type {\n",
       "        vertical-align: middle;\n",
       "    }\n",
       "\n",
       "    .dataframe tbody tr th {\n",
       "        vertical-align: top;\n",
       "    }\n",
       "\n",
       "    .dataframe thead th {\n",
       "        text-align: right;\n",
       "    }\n",
       "</style>\n",
       "<table border=\"1\" class=\"dataframe\">\n",
       "  <thead>\n",
       "    <tr style=\"text-align: right;\">\n",
       "      <th></th>\n",
       "      <th>GMT MKT Interval</th>\n",
       "      <th>datetime</th>\n",
       "      <th>Coal Total</th>\n",
       "      <th>Natural Gas Total</th>\n",
       "      <th>Wind Total</th>\n",
       "      <th>Hydro Total</th>\n",
       "      <th>Nuclear Total</th>\n",
       "    </tr>\n",
       "  </thead>\n",
       "  <tbody>\n",
       "    <tr>\n",
       "      <th>0</th>\n",
       "      <td>2018-01-01T06:00:00Z</td>\n",
       "      <td>2018-01-01 06:00:00+00:00</td>\n",
       "      <td>21152.4</td>\n",
       "      <td>9351.5</td>\n",
       "      <td>3643.1</td>\n",
       "      <td>802.7</td>\n",
       "      <td>2033.8</td>\n",
       "    </tr>\n",
       "    <tr>\n",
       "      <th>1</th>\n",
       "      <td>2018-01-01T06:05:00Z</td>\n",
       "      <td>2018-01-01 06:05:00+00:00</td>\n",
       "      <td>21108.7</td>\n",
       "      <td>9310.2</td>\n",
       "      <td>3619.8</td>\n",
       "      <td>818.6</td>\n",
       "      <td>2034.4</td>\n",
       "    </tr>\n",
       "    <tr>\n",
       "      <th>2</th>\n",
       "      <td>2018-01-01T06:10:00Z</td>\n",
       "      <td>2018-01-01 06:10:00+00:00</td>\n",
       "      <td>21097.9</td>\n",
       "      <td>9462.8</td>\n",
       "      <td>3578.9</td>\n",
       "      <td>846.0</td>\n",
       "      <td>2034.0</td>\n",
       "    </tr>\n",
       "    <tr>\n",
       "      <th>3</th>\n",
       "      <td>2018-01-01T06:15:00Z</td>\n",
       "      <td>2018-01-01 06:15:00+00:00</td>\n",
       "      <td>21072.0</td>\n",
       "      <td>9501.1</td>\n",
       "      <td>3539.2</td>\n",
       "      <td>820.3</td>\n",
       "      <td>2034.4</td>\n",
       "    </tr>\n",
       "    <tr>\n",
       "      <th>4</th>\n",
       "      <td>2018-01-01T06:20:00Z</td>\n",
       "      <td>2018-01-01 06:20:00+00:00</td>\n",
       "      <td>21065.6</td>\n",
       "      <td>9620.9</td>\n",
       "      <td>3515.1</td>\n",
       "      <td>757.0</td>\n",
       "      <td>2034.5</td>\n",
       "    </tr>\n",
       "    <tr>\n",
       "      <th>...</th>\n",
       "      <td>...</td>\n",
       "      <td>...</td>\n",
       "      <td>...</td>\n",
       "      <td>...</td>\n",
       "      <td>...</td>\n",
       "      <td>...</td>\n",
       "      <td>...</td>\n",
       "    </tr>\n",
       "    <tr>\n",
       "      <th>398517</th>\n",
       "      <td>2022-10-16T20:10:00Z</td>\n",
       "      <td>2022-10-16 20:10:00+00:00</td>\n",
       "      <td>8231.5</td>\n",
       "      <td>5927.5</td>\n",
       "      <td>11384.6</td>\n",
       "      <td>948.8</td>\n",
       "      <td>0.0</td>\n",
       "    </tr>\n",
       "    <tr>\n",
       "      <th>398518</th>\n",
       "      <td>2022-10-16T20:15:00Z</td>\n",
       "      <td>2022-10-16 20:15:00+00:00</td>\n",
       "      <td>8258.5</td>\n",
       "      <td>5774.5</td>\n",
       "      <td>11391.8</td>\n",
       "      <td>949.5</td>\n",
       "      <td>0.0</td>\n",
       "    </tr>\n",
       "    <tr>\n",
       "      <th>398519</th>\n",
       "      <td>2022-10-16T20:20:00Z</td>\n",
       "      <td>2022-10-16 20:20:00+00:00</td>\n",
       "      <td>8201.2</td>\n",
       "      <td>5543.7</td>\n",
       "      <td>11504.9</td>\n",
       "      <td>950.9</td>\n",
       "      <td>0.0</td>\n",
       "    </tr>\n",
       "    <tr>\n",
       "      <th>398520</th>\n",
       "      <td>2022-10-16T20:25:00Z</td>\n",
       "      <td>2022-10-16 20:25:00+00:00</td>\n",
       "      <td>8255.3</td>\n",
       "      <td>5359.2</td>\n",
       "      <td>11662.7</td>\n",
       "      <td>949.9</td>\n",
       "      <td>0.0</td>\n",
       "    </tr>\n",
       "    <tr>\n",
       "      <th>398521</th>\n",
       "      <td>2022-10-16T20:30:00Z</td>\n",
       "      <td>2022-10-16 20:30:00+00:00</td>\n",
       "      <td>8234.4</td>\n",
       "      <td>5389.0</td>\n",
       "      <td>11636.3</td>\n",
       "      <td>949.2</td>\n",
       "      <td>0.0</td>\n",
       "    </tr>\n",
       "  </tbody>\n",
       "</table>\n",
       "<p>397386 rows × 7 columns</p>\n",
       "</div>"
      ],
      "text/plain": [
       "            GMT MKT Interval                  datetime  Coal Total  \\\n",
       "0       2018-01-01T06:00:00Z 2018-01-01 06:00:00+00:00     21152.4   \n",
       "1       2018-01-01T06:05:00Z 2018-01-01 06:05:00+00:00     21108.7   \n",
       "2       2018-01-01T06:10:00Z 2018-01-01 06:10:00+00:00     21097.9   \n",
       "3       2018-01-01T06:15:00Z 2018-01-01 06:15:00+00:00     21072.0   \n",
       "4       2018-01-01T06:20:00Z 2018-01-01 06:20:00+00:00     21065.6   \n",
       "...                      ...                       ...         ...   \n",
       "398517  2022-10-16T20:10:00Z 2022-10-16 20:10:00+00:00      8231.5   \n",
       "398518  2022-10-16T20:15:00Z 2022-10-16 20:15:00+00:00      8258.5   \n",
       "398519  2022-10-16T20:20:00Z 2022-10-16 20:20:00+00:00      8201.2   \n",
       "398520  2022-10-16T20:25:00Z 2022-10-16 20:25:00+00:00      8255.3   \n",
       "398521  2022-10-16T20:30:00Z 2022-10-16 20:30:00+00:00      8234.4   \n",
       "\n",
       "        Natural Gas Total  Wind Total  Hydro Total  Nuclear Total  \n",
       "0                  9351.5      3643.1        802.7         2033.8  \n",
       "1                  9310.2      3619.8        818.6         2034.4  \n",
       "2                  9462.8      3578.9        846.0         2034.0  \n",
       "3                  9501.1      3539.2        820.3         2034.4  \n",
       "4                  9620.9      3515.1        757.0         2034.5  \n",
       "...                   ...         ...          ...            ...  \n",
       "398517             5927.5     11384.6        948.8            0.0  \n",
       "398518             5774.5     11391.8        949.5            0.0  \n",
       "398519             5543.7     11504.9        950.9            0.0  \n",
       "398520             5359.2     11662.7        949.9            0.0  \n",
       "398521             5389.0     11636.3        949.2            0.0  \n",
       "\n",
       "[397386 rows x 7 columns]"
      ]
     },
     "execution_count": 5,
     "metadata": {},
     "output_type": "execute_result"
    }
   ],
   "source": [
    "GenMix_Consolidated\n"
   ]
  },
  {
   "cell_type": "code",
   "execution_count": 9,
   "id": "0c948f9a",
   "metadata": {},
   "outputs": [],
   "source": [
    "GenMix_Cons_train, GenMix_Cons_test = train_test_split(GenMix_Consolidated,train_size = .8,shuffle= False)"
   ]
  },
  {
   "cell_type": "code",
   "execution_count": 13,
   "id": "7a080a5f",
   "metadata": {},
   "outputs": [
    {
     "data": {
      "text/plain": [
       "Index(['Coal Total', 'Natural Gas Total', 'Wind Total', 'Hydro Total',\n",
       "       'Nuclear Total'],\n",
       "      dtype='object')"
      ]
     },
     "execution_count": 13,
     "metadata": {},
     "output_type": "execute_result"
    }
   ],
   "source": [
    "GenMix_Cons_test.columns[2:]"
   ]
  },
  {
   "cell_type": "markdown",
   "id": "4d7e74cf",
   "metadata": {},
   "source": [
    "The Naive forecast just uses the current value to predict the next value, so the errors are just the consecutive differences."
   ]
  },
  {
   "cell_type": "markdown",
   "id": "28d099b7",
   "metadata": {},
   "source": [
    "Here we're using one-step-ahead forecasting. (Other cases we seem to be looking at long-term forecasting)"
   ]
  },
  {
   "cell_type": "code",
   "execution_count": 18,
   "id": "9c6718b7",
   "metadata": {},
   "outputs": [],
   "source": [
    "GenMix_Cons_test_diff = GenMix_Cons_test[GenMix_Cons_test.columns[2:]].diff().iloc[1:]"
   ]
  },
  {
   "cell_type": "code",
   "execution_count": null,
   "id": "742abec9",
   "metadata": {},
   "outputs": [],
   "source": []
  },
  {
   "cell_type": "markdown",
   "id": "d60ddd52",
   "metadata": {},
   "source": [
    "Then, can calculate MAE"
   ]
  },
  {
   "cell_type": "code",
   "execution_count": 23,
   "id": "50cdfc90",
   "metadata": {},
   "outputs": [
    {
     "data": {
      "text/plain": [
       "Coal Total           64.038086\n",
       "Natural Gas Total    90.919617\n",
       "Wind Total           96.049933\n",
       "Hydro Total          11.880384\n",
       "Nuclear Total         1.812534\n",
       "dtype: float64"
      ]
     },
     "execution_count": 23,
     "metadata": {},
     "output_type": "execute_result"
    }
   ],
   "source": [
    "GenMix_Cons_test_diff.abs().mean()"
   ]
  },
  {
   "cell_type": "markdown",
   "id": "6e102c1f",
   "metadata": {},
   "source": [
    "or RMSE"
   ]
  },
  {
   "cell_type": "code",
   "execution_count": 21,
   "id": "8b00893a",
   "metadata": {
    "scrolled": true
   },
   "outputs": [
    {
     "data": {
      "text/plain": [
       "Coal Total            87.476114\n",
       "Natural Gas Total    129.631506\n",
       "Wind Total           130.498672\n",
       "Hydro Total           37.243687\n",
       "Nuclear Total          5.313606\n",
       "dtype: float64"
      ]
     },
     "execution_count": 21,
     "metadata": {},
     "output_type": "execute_result"
    }
   ],
   "source": [
    "np.sqrt(GenMix_Cons_test_diff.pow(2).mean())"
   ]
  },
  {
   "cell_type": "code",
   "execution_count": 24,
   "id": "44558b7b",
   "metadata": {},
   "outputs": [],
   "source": [
    "ace_1min_14_22_nan_removed = pd.read_pickle(r\"..\\CC_ACE_Analysis\\ace_1min_14_22_nan_removed.pkl\")\n"
   ]
  },
  {
   "cell_type": "code",
   "execution_count": 25,
   "id": "a9f8d579",
   "metadata": {},
   "outputs": [],
   "source": [
    "ACE_train, ACE_test = train_test_split(ace_1min_14_22_nan_removed,train_size = .8,shuffle= False)"
   ]
  },
  {
   "cell_type": "code",
   "execution_count": 28,
   "id": "11c0a777",
   "metadata": {},
   "outputs": [
    {
     "data": {
      "text/html": [
       "<div>\n",
       "<style scoped>\n",
       "    .dataframe tbody tr th:only-of-type {\n",
       "        vertical-align: middle;\n",
       "    }\n",
       "\n",
       "    .dataframe tbody tr th {\n",
       "        vertical-align: top;\n",
       "    }\n",
       "\n",
       "    .dataframe thead th {\n",
       "        text-align: right;\n",
       "    }\n",
       "</style>\n",
       "<table border=\"1\" class=\"dataframe\">\n",
       "  <thead>\n",
       "    <tr style=\"text-align: right;\">\n",
       "      <th></th>\n",
       "      <th>GMTTime</th>\n",
       "      <th>1 Min ACE Average</th>\n",
       "      <th>datetime</th>\n",
       "    </tr>\n",
       "  </thead>\n",
       "  <tbody>\n",
       "    <tr>\n",
       "      <th>3044571</th>\n",
       "      <td>2021-04-24T22:26:00Z</td>\n",
       "      <td>0.0530</td>\n",
       "      <td>2021-04-24 22:26:00+00:00</td>\n",
       "    </tr>\n",
       "    <tr>\n",
       "      <th>3044572</th>\n",
       "      <td>2021-04-24T22:27:00Z</td>\n",
       "      <td>-47.2353</td>\n",
       "      <td>2021-04-24 22:27:00+00:00</td>\n",
       "    </tr>\n",
       "    <tr>\n",
       "      <th>3044573</th>\n",
       "      <td>2021-04-24T22:28:00Z</td>\n",
       "      <td>64.5720</td>\n",
       "      <td>2021-04-24 22:28:00+00:00</td>\n",
       "    </tr>\n",
       "    <tr>\n",
       "      <th>3044574</th>\n",
       "      <td>2021-04-24T22:29:00Z</td>\n",
       "      <td>123.3202</td>\n",
       "      <td>2021-04-24 22:29:00+00:00</td>\n",
       "    </tr>\n",
       "    <tr>\n",
       "      <th>3044575</th>\n",
       "      <td>2021-04-24T22:30:00Z</td>\n",
       "      <td>35.3459</td>\n",
       "      <td>2021-04-24 22:30:00+00:00</td>\n",
       "    </tr>\n",
       "    <tr>\n",
       "      <th>...</th>\n",
       "      <td>...</td>\n",
       "      <td>...</td>\n",
       "      <td>...</td>\n",
       "    </tr>\n",
       "    <tr>\n",
       "      <th>3805682</th>\n",
       "      <td>2022-10-16T04:55:00Z</td>\n",
       "      <td>111.4383</td>\n",
       "      <td>2022-10-16 04:55:00+00:00</td>\n",
       "    </tr>\n",
       "    <tr>\n",
       "      <th>3805683</th>\n",
       "      <td>2022-10-16T04:56:00Z</td>\n",
       "      <td>110.1949</td>\n",
       "      <td>2022-10-16 04:56:00+00:00</td>\n",
       "    </tr>\n",
       "    <tr>\n",
       "      <th>3805684</th>\n",
       "      <td>2022-10-16T04:57:00Z</td>\n",
       "      <td>115.4496</td>\n",
       "      <td>2022-10-16 04:57:00+00:00</td>\n",
       "    </tr>\n",
       "    <tr>\n",
       "      <th>3805685</th>\n",
       "      <td>2022-10-16T04:58:00Z</td>\n",
       "      <td>108.1516</td>\n",
       "      <td>2022-10-16 04:58:00+00:00</td>\n",
       "    </tr>\n",
       "    <tr>\n",
       "      <th>3805686</th>\n",
       "      <td>2022-10-16T04:59:00Z</td>\n",
       "      <td>134.5231</td>\n",
       "      <td>2022-10-16 04:59:00+00:00</td>\n",
       "    </tr>\n",
       "  </tbody>\n",
       "</table>\n",
       "<p>761116 rows × 3 columns</p>\n",
       "</div>"
      ],
      "text/plain": [
       "                      GMTTime  1 Min ACE Average                  datetime\n",
       "3044571  2021-04-24T22:26:00Z             0.0530 2021-04-24 22:26:00+00:00\n",
       "3044572  2021-04-24T22:27:00Z           -47.2353 2021-04-24 22:27:00+00:00\n",
       "3044573  2021-04-24T22:28:00Z            64.5720 2021-04-24 22:28:00+00:00\n",
       "3044574  2021-04-24T22:29:00Z           123.3202 2021-04-24 22:29:00+00:00\n",
       "3044575  2021-04-24T22:30:00Z            35.3459 2021-04-24 22:30:00+00:00\n",
       "...                       ...                ...                       ...\n",
       "3805682  2022-10-16T04:55:00Z           111.4383 2022-10-16 04:55:00+00:00\n",
       "3805683  2022-10-16T04:56:00Z           110.1949 2022-10-16 04:56:00+00:00\n",
       "3805684  2022-10-16T04:57:00Z           115.4496 2022-10-16 04:57:00+00:00\n",
       "3805685  2022-10-16T04:58:00Z           108.1516 2022-10-16 04:58:00+00:00\n",
       "3805686  2022-10-16T04:59:00Z           134.5231 2022-10-16 04:59:00+00:00\n",
       "\n",
       "[761116 rows x 3 columns]"
      ]
     },
     "execution_count": 28,
     "metadata": {},
     "output_type": "execute_result"
    }
   ],
   "source": [
    "ACE_test"
   ]
  },
  {
   "cell_type": "code",
   "execution_count": 29,
   "id": "9e8bd0fe",
   "metadata": {},
   "outputs": [
    {
     "data": {
      "text/plain": [
       "'1 Min ACE Average'"
      ]
     },
     "execution_count": 29,
     "metadata": {},
     "output_type": "execute_result"
    }
   ],
   "source": [
    "ACE_test.columns[1]"
   ]
  },
  {
   "cell_type": "code",
   "execution_count": 30,
   "id": "a7e95ba6",
   "metadata": {},
   "outputs": [],
   "source": [
    "ACE_test_diff = ACE_test[ACE_test.columns[1]].diff().iloc[1:]"
   ]
  },
  {
   "cell_type": "markdown",
   "id": "99397dee",
   "metadata": {},
   "source": [
    "Then, can calculate MAE"
   ]
  },
  {
   "cell_type": "code",
   "execution_count": 31,
   "id": "4fee1a54",
   "metadata": {},
   "outputs": [
    {
     "data": {
      "text/plain": [
       "40.339082777373164"
      ]
     },
     "execution_count": 31,
     "metadata": {},
     "output_type": "execute_result"
    }
   ],
   "source": [
    "ACE_test_diff.abs().mean()"
   ]
  },
  {
   "cell_type": "code",
   "execution_count": 46,
   "id": "f9716841",
   "metadata": {},
   "outputs": [
    {
     "data": {
      "text/plain": [
       "3044571      0.0530\n",
       "3044572    -47.2353\n",
       "3044573     64.5720\n",
       "3044574    123.3202\n",
       "3044575     35.3459\n",
       "             ...   \n",
       "3805682    111.4383\n",
       "3805683    110.1949\n",
       "3805684    115.4496\n",
       "3805685    108.1516\n",
       "3805686    134.5231\n",
       "Name: 1 Min ACE Average, Length: 761116, dtype: float64"
      ]
     },
     "execution_count": 46,
     "metadata": {},
     "output_type": "execute_result"
    }
   ],
   "source": [
    "ACE_test[ACE_test.columns[1]]"
   ]
  },
  {
   "cell_type": "markdown",
   "id": "af645c53",
   "metadata": {},
   "source": [
    "Illustration of one-step-ahead rolling forecast"
   ]
  },
  {
   "cell_type": "code",
   "execution_count": 53,
   "id": "b472c9c4",
   "metadata": {},
   "outputs": [
    {
     "data": {
      "text/plain": [
       "[<matplotlib.lines.Line2D at 0x181a4088070>]"
      ]
     },
     "execution_count": 53,
     "metadata": {},
     "output_type": "execute_result"
    },
    {
     "data": {
      "image/png": "[encoded data removed]",
      "text/plain": [
       "<Figure size 640x480 with 1 Axes>"
      ]
     },
     "metadata": {},
     "output_type": "display_data"
    }
   ],
   "source": [
    "plt.plot(ACE_test[ACE_test.columns[2]][0:99],ACE_test[ACE_test.columns[1]][0:99])\n",
    "plt.plot(ACE_test[ACE_test.columns[2]][0:99],ACE_test[ACE_test.columns[1]][1:100])\n"
   ]
  },
  {
   "cell_type": "code",
   "execution_count": 62,
   "id": "758c1bb5",
   "metadata": {},
   "outputs": [
    {
     "data": {
      "text/plain": [
       "3044571    0.053\n",
       "Name: 1 Min ACE Average, dtype: float64"
      ]
     },
     "execution_count": 62,
     "metadata": {},
     "output_type": "execute_result"
    }
   ],
   "source": [
    "ACE_test[ACE_test.columns[1]][0:1]"
   ]
  },
  {
   "cell_type": "code",
   "execution_count": 63,
   "id": "fa1f2d62",
   "metadata": {},
   "outputs": [
    {
     "data": {
      "text/plain": [
       "3044571    0.053\n",
       "3044571    0.053\n",
       "3044571    0.053\n",
       "3044571    0.053\n",
       "3044571    0.053\n",
       "           ...  \n",
       "3044571    0.053\n",
       "3044571    0.053\n",
       "3044571    0.053\n",
       "3044571    0.053\n",
       "3044571    0.053\n",
       "Name: 1 Min ACE Average, Length: 100, dtype: float64"
      ]
     },
     "execution_count": 63,
     "metadata": {},
     "output_type": "execute_result"
    }
   ],
   "source": [
    "np.repeat(ACE_test[ACE_test.columns[1]][0:1],100)"
   ]
  },
  {
   "cell_type": "code",
   "execution_count": 77,
   "id": "a7285330",
   "metadata": {},
   "outputs": [
    {
     "data": {
      "text/plain": [
       "[<matplotlib.lines.Line2D at 0x1819fb45e80>]"
      ]
     },
     "execution_count": 77,
     "metadata": {},
     "output_type": "execute_result"
    },
    {
     "data": {
      "image/png": "[encoded data removed]",
      "text/plain": [
       "<Figure size 640x480 with 1 Axes>"
      ]
     },
     "metadata": {},
     "output_type": "display_data"
    }
   ],
   "source": [
    "plt.plot(ACE_test[ACE_test.columns[2]][100:110],(ACE_test[ACE_test.columns[1]][90:100]))\n",
    "plt.plot(ACE_test[ACE_test.columns[2]][0:100],ACE_test[ACE_test.columns[1]][0:100])\n"
   ]
  },
  {
   "cell_type": "code",
   "execution_count": 80,
   "id": "0008b65f",
   "metadata": {},
   "outputs": [
    {
     "data": {
      "text/plain": [
       "[<matplotlib.lines.Line2D at 0x1819fabaee0>]"
      ]
     },
     "execution_count": 80,
     "metadata": {},
     "output_type": "execute_result"
    },
    {
     "data": {
      "image/png": "[encoded data removed]",
      "text/plain": [
       "<Figure size 640x480 with 1 Axes>"
      ]
     },
     "metadata": {},
     "output_type": "display_data"
    }
   ],
   "source": [
    "plt.scatter(ACE_test[ACE_test.columns[2]][101:102],(ACE_test[ACE_test.columns[1]][99:100]))\n",
    "plt.plot(ACE_test[ACE_test.columns[2]][0:100],ACE_test[ACE_test.columns[1]][0:100])\n"
   ]
  },
  {
   "cell_type": "markdown",
   "id": "f8b399f7",
   "metadata": {},
   "source": [
    "or RMSE"
   ]
  },
  {
   "cell_type": "code",
   "execution_count": 32,
   "id": "e730cfa6",
   "metadata": {
    "scrolled": false
   },
   "outputs": [
    {
     "data": {
      "text/plain": [
       "52.82853296087804"
      ]
     },
     "execution_count": 32,
     "metadata": {},
     "output_type": "execute_result"
    }
   ],
   "source": [
    "np.sqrt(ACE_test_diff.pow(2).mean())"
   ]
  },
  {
   "cell_type": "code",
   "execution_count": null,
   "id": "0389905a",
   "metadata": {},
   "outputs": [],
   "source": []
  },
  {
   "cell_type": "code",
   "execution_count": 81,
   "id": "c5d342c9",
   "metadata": {},
   "outputs": [],
   "source": [
    "load_spp_eia_Jun19_Oct22 =pd.read_csv(r\"..\\importdata\\load_spp_eia_Jun19_Oct22.csv\")"
   ]
  },
  {
   "cell_type": "code",
   "execution_count": 89,
   "id": "59967419",
   "metadata": {},
   "outputs": [],
   "source": [
    "load_train, load_test = train_test_split(load_spp_eia_Jun19_Oct22,train_size = .8,shuffle= False)"
   ]
  },
  {
   "cell_type": "code",
   "execution_count": 90,
   "id": "5e564737",
   "metadata": {},
   "outputs": [],
   "source": [
    "load_diff = load_test[load_test.columns[6:]].diff().iloc[1:]"
   ]
  },
  {
   "cell_type": "code",
   "execution_count": 91,
   "id": "ed6aeed1",
   "metadata": {},
   "outputs": [
    {
     "data": {
      "text/plain": [
       "D       961.155960\n",
       "CSWS    225.269323\n",
       "SPRM     16.951220\n",
       "EDE      25.334421\n",
       "GRDA     18.684473\n",
       "INDN      6.093782\n",
       "MPS      42.558399\n",
       "KACY      8.549983\n",
       "KCPL     72.327722\n",
       "LES      16.850739\n",
       "NPPD     50.157334\n",
       "OKGE    145.435933\n",
       "OPPD     52.104431\n",
       "SPS      74.861903\n",
       "SECI     17.988835\n",
       "WR      133.241154\n",
       "WAUE     66.116627\n",
       "WFEC     37.206115\n",
       "dtype: float64"
      ]
     },
     "execution_count": 91,
     "metadata": {},
     "output_type": "execute_result"
    }
   ],
   "source": [
    "load_diff.abs().mean()"
   ]
  },
  {
   "cell_type": "code",
   "execution_count": 92,
   "id": "99315d3c",
   "metadata": {},
   "outputs": [
    {
     "data": {
      "text/plain": [
       "D       1189.353293\n",
       "CSWS     277.892106\n",
       "SPRM      21.666573\n",
       "EDE       31.770500\n",
       "GRDA      25.193334\n",
       "INDN       7.922287\n",
       "MPS       53.345846\n",
       "KACY      10.833108\n",
       "KCPL      91.520137\n",
       "LES       21.156997\n",
       "NPPD      63.382512\n",
       "OKGE     181.306427\n",
       "OPPD      66.352672\n",
       "SPS       93.263723\n",
       "SECI      22.573583\n",
       "WR       168.481679\n",
       "WAUE      84.671770\n",
       "WFEC      46.104466\n",
       "dtype: float64"
      ]
     },
     "execution_count": 92,
     "metadata": {},
     "output_type": "execute_result"
    }
   ],
   "source": [
    "np.sqrt(load_diff.pow(2).mean())"
   ]
  },
  {
   "cell_type": "markdown",
   "id": "b45a1861",
   "metadata": {},
   "source": [
    "Try seasonal Naive?\n",
    "\n",
    "Try longer term Naive\n",
    "\n",
    "Try RMSE with zero"
   ]
  },
  {
   "cell_type": "markdown",
   "id": "a5c60cc6",
   "metadata": {},
   "source": []
  }
 ],
 "metadata": {
  "kernelspec": {
   "display_name": "Python 3 (ipykernel)",
   "language": "python",
   "name": "python3"
  },
  "language_info": {
   "codemirror_mode": {
    "name": "ipython",
    "version": 3
   },
   "file_extension": ".py",
   "mimetype": "text/x-python",
   "name": "python",
   "nbconvert_exporter": "python",
   "pygments_lexer": "ipython3",
   "version": "3.9.7"
  }
 },
 "nbformat": 4,
 "nbformat_minor": 5
}
