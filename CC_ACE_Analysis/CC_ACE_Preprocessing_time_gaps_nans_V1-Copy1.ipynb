{
 "cells": [
  {
   "cell_type": "code",
   "execution_count": 1,
   "id": "7d46c809",
   "metadata": {},
   "outputs": [],
   "source": [
    "import numpy as np\n",
    "import matplotlib.pyplot as plt\n",
    "from scipy.optimize import minimize\n",
    "from statsmodels.tsa.stattools import acf, ccf, pacf\n",
    "from statsmodels.graphics.tsaplots import plot_acf, plot_pacf\n",
    "from statsmodels.graphics import utils\n",
    "import statsmodels.api as sm\n",
    "from statsmodels.graphics.tsaplots import plot_predict\n",
    "import pandas as pd\n",
    "from statsmodels.graphics.api import qqplot"
   ]
  },
  {
   "cell_type": "code",
   "execution_count": null,
   "id": "63431dcf",
   "metadata": {},
   "outputs": [],
   "source": []
  },
  {
   "cell_type": "markdown",
   "id": "c82ccbed",
   "metadata": {},
   "source": [
    "#### See \"Check holes and NaNs for all data\" section at bottom"
   ]
  },
  {
   "cell_type": "markdown",
   "id": "86d1f008",
   "metadata": {},
   "source": [
    "## Goals\n",
    "Take a look at ACE, try to do ARIMA for my own learning\n",
    "\n",
    "Do more preprocessing if necessary"
   ]
  },
  {
   "cell_type": "code",
   "execution_count": null,
   "id": "3f23de3c",
   "metadata": {},
   "outputs": [],
   "source": []
  },
  {
   "cell_type": "markdown",
   "id": "53c9bd9d",
   "metadata": {},
   "source": [
    "#### Import Data"
   ]
  },
  {
   "cell_type": "code",
   "execution_count": 3,
   "id": "541e4541",
   "metadata": {},
   "outputs": [],
   "source": [
    "ace_1min_14_22=pd.read_csv(r\"..\\ImportData\\ace_1min_14_22.csv\")"
   ]
  },
  {
   "cell_type": "code",
   "execution_count": 4,
   "id": "8ba2ab79",
   "metadata": {},
   "outputs": [
    {
     "data": {
      "text/html": [
       "<div>\n",
       "<style scoped>\n",
       "    .dataframe tbody tr th:only-of-type {\n",
       "        vertical-align: middle;\n",
       "    }\n",
       "\n",
       "    .dataframe tbody tr th {\n",
       "        vertical-align: top;\n",
       "    }\n",
       "\n",
       "    .dataframe thead th {\n",
       "        text-align: right;\n",
       "    }\n",
       "</style>\n",
       "<table border=\"1\" class=\"dataframe\">\n",
       "  <thead>\n",
       "    <tr style=\"text-align: right;\">\n",
       "      <th></th>\n",
       "      <th>GMTTime</th>\n",
       "      <th>1 Min ACE Average</th>\n",
       "    </tr>\n",
       "  </thead>\n",
       "  <tbody>\n",
       "    <tr>\n",
       "      <th>0</th>\n",
       "      <td>2014-03-01T06:00:00Z</td>\n",
       "      <td>-26.9910</td>\n",
       "    </tr>\n",
       "    <tr>\n",
       "      <th>1</th>\n",
       "      <td>2014-03-01T06:01:00Z</td>\n",
       "      <td>-86.1290</td>\n",
       "    </tr>\n",
       "    <tr>\n",
       "      <th>2</th>\n",
       "      <td>2014-03-01T06:02:00Z</td>\n",
       "      <td>-95.1770</td>\n",
       "    </tr>\n",
       "    <tr>\n",
       "      <th>3</th>\n",
       "      <td>2014-03-01T06:03:00Z</td>\n",
       "      <td>-69.5760</td>\n",
       "    </tr>\n",
       "    <tr>\n",
       "      <th>4</th>\n",
       "      <td>2014-03-01T06:04:00Z</td>\n",
       "      <td>-31.9080</td>\n",
       "    </tr>\n",
       "    <tr>\n",
       "      <th>...</th>\n",
       "      <td>...</td>\n",
       "      <td>...</td>\n",
       "    </tr>\n",
       "    <tr>\n",
       "      <th>3805682</th>\n",
       "      <td>2022-10-16T04:55:00Z</td>\n",
       "      <td>111.4383</td>\n",
       "    </tr>\n",
       "    <tr>\n",
       "      <th>3805683</th>\n",
       "      <td>2022-10-16T04:56:00Z</td>\n",
       "      <td>110.1949</td>\n",
       "    </tr>\n",
       "    <tr>\n",
       "      <th>3805684</th>\n",
       "      <td>2022-10-16T04:57:00Z</td>\n",
       "      <td>115.4496</td>\n",
       "    </tr>\n",
       "    <tr>\n",
       "      <th>3805685</th>\n",
       "      <td>2022-10-16T04:58:00Z</td>\n",
       "      <td>108.1516</td>\n",
       "    </tr>\n",
       "    <tr>\n",
       "      <th>3805686</th>\n",
       "      <td>2022-10-16T04:59:00Z</td>\n",
       "      <td>134.5231</td>\n",
       "    </tr>\n",
       "  </tbody>\n",
       "</table>\n",
       "<p>3805687 rows × 2 columns</p>\n",
       "</div>"
      ],
      "text/plain": [
       "                      GMTTime  1 Min ACE Average\n",
       "0        2014-03-01T06:00:00Z           -26.9910\n",
       "1        2014-03-01T06:01:00Z           -86.1290\n",
       "2        2014-03-01T06:02:00Z           -95.1770\n",
       "3        2014-03-01T06:03:00Z           -69.5760\n",
       "4        2014-03-01T06:04:00Z           -31.9080\n",
       "...                       ...                ...\n",
       "3805682  2022-10-16T04:55:00Z           111.4383\n",
       "3805683  2022-10-16T04:56:00Z           110.1949\n",
       "3805684  2022-10-16T04:57:00Z           115.4496\n",
       "3805685  2022-10-16T04:58:00Z           108.1516\n",
       "3805686  2022-10-16T04:59:00Z           134.5231\n",
       "\n",
       "[3805687 rows x 2 columns]"
      ]
     },
     "execution_count": 4,
     "metadata": {},
     "output_type": "execute_result"
    }
   ],
   "source": [
    "ace_1min_14_22"
   ]
  },
  {
   "cell_type": "code",
   "execution_count": 9,
   "id": "bf403b72",
   "metadata": {},
   "outputs": [
    {
     "data": {
      "text/plain": [
       "Index(['GMTTime', '1 Min ACE Average'], dtype='object')"
      ]
     },
     "execution_count": 9,
     "metadata": {},
     "output_type": "execute_result"
    }
   ],
   "source": [
    "ace_1min_14_22.columns"
   ]
  },
  {
   "cell_type": "code",
   "execution_count": 20,
   "id": "ed5169ba",
   "metadata": {},
   "outputs": [],
   "source": [
    "# work with 1/8 of data for now\n",
    "ace_1min_14_15 = ace_1min_14_22[:3805687//8]"
   ]
  },
  {
   "cell_type": "code",
   "execution_count": 13,
   "id": "7933929c",
   "metadata": {},
   "outputs": [
    {
     "data": {
      "text/plain": [
       "0        -26.991\n",
       "1        -86.129\n",
       "2        -95.177\n",
       "3        -69.576\n",
       "4        -31.908\n",
       "           ...  \n",
       "475705   -35.649\n",
       "475706   -43.391\n",
       "475707   -29.642\n",
       "475708   -16.621\n",
       "475709    36.252\n",
       "Name: 1 Min ACE Average, Length: 475710, dtype: float64"
      ]
     },
     "execution_count": 13,
     "metadata": {},
     "output_type": "execute_result"
    }
   ],
   "source": [
    "ace_1min_14_22['1 Min ACE Average'][:3805687//8]"
   ]
  },
  {
   "cell_type": "markdown",
   "id": "0c3a8531",
   "metadata": {},
   "source": [
    "#### Plot histogram of part of data"
   ]
  },
  {
   "cell_type": "code",
   "execution_count": 28,
   "id": "73c71dcf",
   "metadata": {},
   "outputs": [
    {
     "data": {
      "image/png": "[encoded data removed]",
      "text/plain": [
       "<Figure size 640x480 with 1 Axes>"
      ]
     },
     "metadata": {},
     "output_type": "display_data"
    }
   ],
   "source": [
    "plt.hist(ace_1min_14_22['1 Min ACE Average'][:3805687//8],bins = np.linspace(-500,500,100))\n",
    "plt.show()"
   ]
  },
  {
   "cell_type": "markdown",
   "id": "32fcf7b7",
   "metadata": {},
   "source": [
    "doesn't look normal..."
   ]
  },
  {
   "cell_type": "markdown",
   "id": "8c6b1b34",
   "metadata": {},
   "source": [
    "#### Plot time series small part of data"
   ]
  },
  {
   "cell_type": "code",
   "execution_count": 27,
   "id": "241d46d6",
   "metadata": {},
   "outputs": [
    {
     "data": {
      "text/plain": [
       "[<matplotlib.lines.Line2D at 0x268a2f8c4f0>]"
      ]
     },
     "execution_count": 27,
     "metadata": {},
     "output_type": "execute_result"
    },
    {
     "data": {
      "image/png": "[encoded data removed]",
      "text/plain": [
       "<Figure size 640x480 with 1 Axes>"
      ]
     },
     "metadata": {},
     "output_type": "display_data"
    }
   ],
   "source": [
    "plt.plot(ace_1min_14_22['1 Min ACE Average'][:3805687//10000])"
   ]
  },
  {
   "cell_type": "markdown",
   "id": "f6b8dbc9",
   "metadata": {},
   "source": [
    "#### limit to 2014 data"
   ]
  },
  {
   "cell_type": "code",
   "execution_count": 32,
   "id": "f7a1b238",
   "metadata": {},
   "outputs": [],
   "source": [
    "# limit to just 2014\n",
    "ace_1min_14= ace_1min_14_15[ace_1min_14_15[\"GMTTime\"]<\"2015-01-01\"]"
   ]
  },
  {
   "cell_type": "markdown",
   "id": "ed1640bb",
   "metadata": {},
   "source": [
    "#### Convert  time"
   ]
  },
  {
   "cell_type": "code",
   "execution_count": 41,
   "id": "555aa4ba",
   "metadata": {},
   "outputs": [],
   "source": [
    "import datetime"
   ]
  },
  {
   "cell_type": "code",
   "execution_count": null,
   "id": "2e9ee71f",
   "metadata": {},
   "outputs": [],
   "source": [
    "# https://www.digitalocean.com/community/tutorials/python-string-to-datetime-strptime\n",
    "# https://www.geeksforgeeks.org/python-convert-string-to-datetime-and-vice-versa/\n",
    "# https://docs.python.org/3/library/datetime.html#strftime-and-strptime-behavior"
   ]
  },
  {
   "cell_type": "code",
   "execution_count": 45,
   "id": "8ae8b82e",
   "metadata": {},
   "outputs": [
    {
     "data": {
      "text/plain": [
       "'2014-03-01T06:00:00Z'"
      ]
     },
     "execution_count": 45,
     "metadata": {},
     "output_type": "execute_result"
    }
   ],
   "source": [
    "ace_1min_14[\"GMTTime\"][0]\n",
    "#'%Y-%m-%dT%H:%M:%S%Z'"
   ]
  },
  {
   "cell_type": "code",
   "execution_count": 49,
   "id": "a185a84f",
   "metadata": {},
   "outputs": [
    {
     "data": {
      "text/plain": [
       "datetime.datetime(2014, 3, 1, 6, 0)"
      ]
     },
     "execution_count": 49,
     "metadata": {},
     "output_type": "execute_result"
    }
   ],
   "source": [
    "datetime.datetime.strptime(ace_1min_14[\"GMTTime\"][0],'%Y-%m-%dT%H:%M:%SZ')"
   ]
  },
  {
   "cell_type": "code",
   "execution_count": null,
   "id": "6e083c63",
   "metadata": {},
   "outputs": [],
   "source": []
  },
  {
   "cell_type": "markdown",
   "id": "4ab19dfc",
   "metadata": {},
   "source": [
    "Datetime module doesn't work well, \n",
    "use pandas method instead"
   ]
  },
  {
   "cell_type": "code",
   "execution_count": 51,
   "id": "f9d3deab",
   "metadata": {},
   "outputs": [
    {
     "name": "stderr",
     "output_type": "stream",
     "text": [
      "C:\\Users\\chen5\\AppData\\Local\\Temp\\ipykernel_20340\\10540153.py:2: SettingWithCopyWarning: \n",
      "A value is trying to be set on a copy of a slice from a DataFrame.\n",
      "Try using .loc[row_indexer,col_indexer] = value instead\n",
      "\n",
      "See the caveats in the documentation: https://pandas.pydata.org/pandas-docs/stable/user_guide/indexing.html#returning-a-view-versus-a-copy\n",
      "  ace_1min_14['datetime'] = pd.to_datetime(ace_1min_14[\"GMTTime\"])\n"
     ]
    }
   ],
   "source": [
    "#https://www.geeksforgeeks.org/convert-the-column-type-from-string-to-datetime-format-in-pandas-dataframe/https://www.geeksforgeeks.org/convert-the-column-type-from-string-to-datetime-format-in-pandas-dataframe/\n",
    "ace_1min_14['datetime'] = pd.to_datetime(ace_1min_14[\"GMTTime\"])"
   ]
  },
  {
   "cell_type": "markdown",
   "id": "454b2c28",
   "metadata": {},
   "source": [
    "#### Look at gaps/time irregularities (not 1 minute difference)"
   ]
  },
  {
   "cell_type": "code",
   "execution_count": 55,
   "id": "e8f62087",
   "metadata": {},
   "outputs": [],
   "source": [
    "diff_time = ace_1min_14[\"datetime\"].diff()"
   ]
  },
  {
   "cell_type": "code",
   "execution_count": 59,
   "id": "762a789c",
   "metadata": {},
   "outputs": [
    {
     "data": {
      "text/plain": [
       "0          True\n",
       "1         False\n",
       "2         False\n",
       "3         False\n",
       "4         False\n",
       "          ...  \n",
       "434167    False\n",
       "434168    False\n",
       "434169    False\n",
       "434170    False\n",
       "434171    False\n",
       "Name: datetime, Length: 434172, dtype: bool"
      ]
     },
     "execution_count": 59,
     "metadata": {},
     "output_type": "execute_result"
    }
   ],
   "source": [
    "diff_time!= diff_time[100]"
   ]
  },
  {
   "cell_type": "code",
   "execution_count": 67,
   "id": "a2b74af9",
   "metadata": {},
   "outputs": [],
   "source": [
    "ace_1min_14_gaps = ace_1min_14[diff_time!= diff_time[100]]"
   ]
  },
  {
   "cell_type": "code",
   "execution_count": 72,
   "id": "21743470",
   "metadata": {},
   "outputs": [
    {
     "data": {
      "text/plain": [
       "<AxesSubplot:xlabel='datetime'>"
      ]
     },
     "execution_count": 72,
     "metadata": {},
     "output_type": "execute_result"
    },
    {
     "data": {
      "image/png": "[encoded data removed]",
      "text/plain": [
       "<Figure size 640x480 with 1 Axes>"
      ]
     },
     "metadata": {},
     "output_type": "display_data"
    }
   ],
   "source": [
    "ace_1min_14_gaps.set_index('datetime').plot(style = '.')"
   ]
  },
  {
   "cell_type": "markdown",
   "id": "943f2f76",
   "metadata": {},
   "source": [
    "most gaps are in two periods, others are scattered."
   ]
  },
  {
   "cell_type": "code",
   "execution_count": 65,
   "id": "88ad4fe1",
   "metadata": {},
   "outputs": [
    {
     "data": {
      "text/plain": [
       "2336               0 days 00:02:00\n",
       "7958               0 days 00:02:00\n",
       "10702              0 days 00:02:00\n",
       "11518    0 days 00:00:57.498278400\n",
       "11519    0 days 00:00:57.498252800\n",
       "                    ...           \n",
       "398399             0 days 07:26:00\n",
       "406463             0 days 09:37:00\n",
       "410234             0 days 09:10:00\n",
       "410703             0 days 03:02:00\n",
       "424352             0 days 00:02:00\n",
       "Name: datetime, Length: 2923, dtype: timedelta64[ns]"
      ]
     },
     "execution_count": 65,
     "metadata": {},
     "output_type": "execute_result"
    }
   ],
   "source": [
    "diff_time[1:][diff_time!= diff_time[100]]"
   ]
  },
  {
   "cell_type": "code",
   "execution_count": 87,
   "id": "b5f0feb7",
   "metadata": {},
   "outputs": [],
   "source": [
    "ace_1min_14_big_gaps = ace_1min_14[diff_time> 2*diff_time[100]]"
   ]
  },
  {
   "cell_type": "code",
   "execution_count": 89,
   "id": "c39697d6",
   "metadata": {},
   "outputs": [
    {
     "data": {
      "text/plain": [
       "<AxesSubplot:xlabel='datetime'>"
      ]
     },
     "execution_count": 89,
     "metadata": {},
     "output_type": "execute_result"
    },
    {
     "data": {
      "image/png": "[encoded data removed]",
      "text/plain": [
       "<Figure size 640x480 with 1 Axes>"
      ]
     },
     "metadata": {},
     "output_type": "display_data"
    }
   ],
   "source": [
    "ace_1min_14_big_gaps.set_index('datetime').plot(style = '.')"
   ]
  },
  {
   "cell_type": "code",
   "execution_count": 85,
   "id": "2fe7885d",
   "metadata": {},
   "outputs": [
    {
     "data": {
      "text/plain": [
       "55462    0 days 00:26:00\n",
       "76624    0 days 00:29:00\n",
       "82637    0 days 00:03:00\n",
       "89872    0 days 00:51:00\n",
       "126217   0 days 03:20:00\n",
       "128920   0 days 03:32:00\n",
       "133608   0 days 00:45:00\n",
       "157091   0 days 02:22:00\n",
       "165036   0 days 00:14:00\n",
       "182086   0 days 01:10:00\n",
       "192459   0 days 03:46:00\n",
       "196252   0 days 00:10:00\n",
       "210814   0 days 03:45:00\n",
       "221501   0 days 04:47:00\n",
       "229327   0 days 01:10:00\n",
       "233231   0 days 00:20:00\n",
       "262944   0 days 00:30:00\n",
       "290429   0 days 03:57:00\n",
       "292567   0 days 07:39:00\n",
       "308617   0 days 01:15:00\n",
       "315739   0 days 01:19:00\n",
       "327589   0 days 03:58:00\n",
       "333964   0 days 04:19:00\n",
       "357828   0 days 06:22:00\n",
       "380770   0 days 02:00:00\n",
       "384721   0 days 07:04:00\n",
       "396729   0 days 07:17:00\n",
       "398399   0 days 07:26:00\n",
       "406463   0 days 09:37:00\n",
       "410234   0 days 09:10:00\n",
       "410703   0 days 03:02:00\n",
       "Name: datetime, dtype: timedelta64[ns]"
      ]
     },
     "execution_count": 85,
     "metadata": {},
     "output_type": "execute_result"
    }
   ],
   "source": [
    "(diff_time[1:][diff_time> 2*diff_time[100]])"
   ]
  },
  {
   "cell_type": "code",
   "execution_count": 84,
   "id": "d65299fb",
   "metadata": {},
   "outputs": [
    {
     "data": {
      "text/plain": [
       "(array([9., 4., 2., 5., 4., 0., 1., 4., 0., 2.]),\n",
       " array([  3. ,  60.4, 117.8, 175.2, 232.6, 290. , 347.4, 404.8, 462.2,\n",
       "        519.6, 577. ]),\n",
       " <BarContainer object of 10 artists>)"
      ]
     },
     "execution_count": 84,
     "metadata": {},
     "output_type": "execute_result"
    },
    {
     "data": {
      "image/png": "[encoded data removed]",
      "text/plain": [
       "<Figure size 640x480 with 1 Axes>"
      ]
     },
     "metadata": {},
     "output_type": "display_data"
    }
   ],
   "source": [
    "plt.hist((diff_time[1:][diff_time> 2*diff_time[100]]).astype('timedelta64[m]'))\n"
   ]
  },
  {
   "cell_type": "code",
   "execution_count": 78,
   "id": "1089fac0",
   "metadata": {},
   "outputs": [
    {
     "data": {
      "text/plain": [
       "Timedelta('0 days 00:02:00')"
      ]
     },
     "execution_count": 78,
     "metadata": {},
     "output_type": "execute_result"
    }
   ],
   "source": [
    " 2*diff_time[100]"
   ]
  },
  {
   "cell_type": "markdown",
   "id": "a715d3dd",
   "metadata": {},
   "source": [
    "only 31 intervals have mroe than 2 minute difference"
   ]
  },
  {
   "cell_type": "code",
   "execution_count": 63,
   "id": "0d4cd5a2",
   "metadata": {},
   "outputs": [
    {
     "data": {
      "text/plain": [
       "0.006734658153911353"
      ]
     },
     "execution_count": 63,
     "metadata": {},
     "output_type": "execute_result"
    }
   ],
   "source": [
    "2924/434172"
   ]
  },
  {
   "cell_type": "markdown",
   "id": "e75f32c1",
   "metadata": {},
   "source": [
    "there are gaps, .6% of rows have a gap before them in 2014"
   ]
  },
  {
   "cell_type": "code",
   "execution_count": 75,
   "id": "f3105e9e",
   "metadata": {},
   "outputs": [
    {
     "data": {
      "text/html": [
       "<div>\n",
       "<style scoped>\n",
       "    .dataframe tbody tr th:only-of-type {\n",
       "        vertical-align: middle;\n",
       "    }\n",
       "\n",
       "    .dataframe tbody tr th {\n",
       "        vertical-align: top;\n",
       "    }\n",
       "\n",
       "    .dataframe thead th {\n",
       "        text-align: right;\n",
       "    }\n",
       "</style>\n",
       "<table border=\"1\" class=\"dataframe\">\n",
       "  <thead>\n",
       "    <tr style=\"text-align: right;\">\n",
       "      <th></th>\n",
       "      <th>GMTTime</th>\n",
       "      <th>1 Min ACE Average</th>\n",
       "      <th>datetime</th>\n",
       "    </tr>\n",
       "  </thead>\n",
       "  <tbody>\n",
       "    <tr>\n",
       "      <th>0</th>\n",
       "      <td>2014-03-01T06:00:00Z</td>\n",
       "      <td>-26.9910</td>\n",
       "      <td>2014-03-01 06:00:00+00:00</td>\n",
       "    </tr>\n",
       "    <tr>\n",
       "      <th>2336</th>\n",
       "      <td>2014-03-02T20:57:00Z</td>\n",
       "      <td>140.7700</td>\n",
       "      <td>2014-03-02 20:57:00+00:00</td>\n",
       "    </tr>\n",
       "    <tr>\n",
       "      <th>7958</th>\n",
       "      <td>2014-03-06T18:40:00Z</td>\n",
       "      <td>-56.5030</td>\n",
       "      <td>2014-03-06 18:40:00+00:00</td>\n",
       "    </tr>\n",
       "    <tr>\n",
       "      <th>10702</th>\n",
       "      <td>2014-03-08T16:25:00Z</td>\n",
       "      <td>-131.3800</td>\n",
       "      <td>2014-03-08 16:25:00+00:00</td>\n",
       "    </tr>\n",
       "    <tr>\n",
       "      <th>11518</th>\n",
       "      <td>2014-03-09T06:00:57.4982784Z</td>\n",
       "      <td>-60.1820</td>\n",
       "      <td>2014-03-09 06:00:57.498278400+00:00</td>\n",
       "    </tr>\n",
       "    <tr>\n",
       "      <th>11519</th>\n",
       "      <td>2014-03-09T06:01:54.9965312Z</td>\n",
       "      <td>-132.8300</td>\n",
       "      <td>2014-03-09 06:01:54.996531200+00:00</td>\n",
       "    </tr>\n",
       "    <tr>\n",
       "      <th>11520</th>\n",
       "      <td>2014-03-09T06:02:52.4947968Z</td>\n",
       "      <td>-149.0600</td>\n",
       "      <td>2014-03-09 06:02:52.494796800+00:00</td>\n",
       "    </tr>\n",
       "    <tr>\n",
       "      <th>11521</th>\n",
       "      <td>2014-03-09T06:03:49.9930624Z</td>\n",
       "      <td>-118.0400</td>\n",
       "      <td>2014-03-09 06:03:49.993062400+00:00</td>\n",
       "    </tr>\n",
       "    <tr>\n",
       "      <th>11522</th>\n",
       "      <td>2014-03-09T06:04:47.4913152Z</td>\n",
       "      <td>20.2490</td>\n",
       "      <td>2014-03-09 06:04:47.491315200+00:00</td>\n",
       "    </tr>\n",
       "    <tr>\n",
       "      <th>11523</th>\n",
       "      <td>2014-03-09T06:05:44.9895808Z</td>\n",
       "      <td>52.4270</td>\n",
       "      <td>2014-03-09 06:05:44.989580800+00:00</td>\n",
       "    </tr>\n",
       "    <tr>\n",
       "      <th>11524</th>\n",
       "      <td>2014-03-09T06:06:42.4878336Z</td>\n",
       "      <td>9.7456</td>\n",
       "      <td>2014-03-09 06:06:42.487833600+00:00</td>\n",
       "    </tr>\n",
       "    <tr>\n",
       "      <th>11525</th>\n",
       "      <td>2014-03-09T06:07:39.986112Z</td>\n",
       "      <td>-20.8360</td>\n",
       "      <td>2014-03-09 06:07:39.986112+00:00</td>\n",
       "    </tr>\n",
       "    <tr>\n",
       "      <th>11526</th>\n",
       "      <td>2014-03-09T06:08:37.4843776Z</td>\n",
       "      <td>-77.7910</td>\n",
       "      <td>2014-03-09 06:08:37.484377600+00:00</td>\n",
       "    </tr>\n",
       "    <tr>\n",
       "      <th>11527</th>\n",
       "      <td>2014-03-09T06:09:34.9826304Z</td>\n",
       "      <td>-149.4200</td>\n",
       "      <td>2014-03-09 06:09:34.982630400+00:00</td>\n",
       "    </tr>\n",
       "    <tr>\n",
       "      <th>11528</th>\n",
       "      <td>2014-03-09T06:10:32.480896Z</td>\n",
       "      <td>-105.2000</td>\n",
       "      <td>2014-03-09 06:10:32.480896+00:00</td>\n",
       "    </tr>\n",
       "    <tr>\n",
       "      <th>11529</th>\n",
       "      <td>2014-03-09T06:11:29.9791616Z</td>\n",
       "      <td>-120.8700</td>\n",
       "      <td>2014-03-09 06:11:29.979161600+00:00</td>\n",
       "    </tr>\n",
       "    <tr>\n",
       "      <th>11530</th>\n",
       "      <td>2014-03-09T06:12:27.4774144Z</td>\n",
       "      <td>-131.5700</td>\n",
       "      <td>2014-03-09 06:12:27.477414400+00:00</td>\n",
       "    </tr>\n",
       "    <tr>\n",
       "      <th>11531</th>\n",
       "      <td>2014-03-09T06:13:24.97568Z</td>\n",
       "      <td>-121.7900</td>\n",
       "      <td>2014-03-09 06:13:24.975680+00:00</td>\n",
       "    </tr>\n",
       "    <tr>\n",
       "      <th>11532</th>\n",
       "      <td>2014-03-09T06:14:22.4739584Z</td>\n",
       "      <td>-88.4890</td>\n",
       "      <td>2014-03-09 06:14:22.473958400+00:00</td>\n",
       "    </tr>\n",
       "    <tr>\n",
       "      <th>11533</th>\n",
       "      <td>2014-03-09T06:15:19.9722112Z</td>\n",
       "      <td>-32.3570</td>\n",
       "      <td>2014-03-09 06:15:19.972211200+00:00</td>\n",
       "    </tr>\n",
       "  </tbody>\n",
       "</table>\n",
       "</div>"
      ],
      "text/plain": [
       "                            GMTTime  1 Min ACE Average  \\\n",
       "0              2014-03-01T06:00:00Z           -26.9910   \n",
       "2336           2014-03-02T20:57:00Z           140.7700   \n",
       "7958           2014-03-06T18:40:00Z           -56.5030   \n",
       "10702          2014-03-08T16:25:00Z          -131.3800   \n",
       "11518  2014-03-09T06:00:57.4982784Z           -60.1820   \n",
       "11519  2014-03-09T06:01:54.9965312Z          -132.8300   \n",
       "11520  2014-03-09T06:02:52.4947968Z          -149.0600   \n",
       "11521  2014-03-09T06:03:49.9930624Z          -118.0400   \n",
       "11522  2014-03-09T06:04:47.4913152Z            20.2490   \n",
       "11523  2014-03-09T06:05:44.9895808Z            52.4270   \n",
       "11524  2014-03-09T06:06:42.4878336Z             9.7456   \n",
       "11525   2014-03-09T06:07:39.986112Z           -20.8360   \n",
       "11526  2014-03-09T06:08:37.4843776Z           -77.7910   \n",
       "11527  2014-03-09T06:09:34.9826304Z          -149.4200   \n",
       "11528   2014-03-09T06:10:32.480896Z          -105.2000   \n",
       "11529  2014-03-09T06:11:29.9791616Z          -120.8700   \n",
       "11530  2014-03-09T06:12:27.4774144Z          -131.5700   \n",
       "11531    2014-03-09T06:13:24.97568Z          -121.7900   \n",
       "11532  2014-03-09T06:14:22.4739584Z           -88.4890   \n",
       "11533  2014-03-09T06:15:19.9722112Z           -32.3570   \n",
       "\n",
       "                                 datetime  \n",
       "0               2014-03-01 06:00:00+00:00  \n",
       "2336            2014-03-02 20:57:00+00:00  \n",
       "7958            2014-03-06 18:40:00+00:00  \n",
       "10702           2014-03-08 16:25:00+00:00  \n",
       "11518 2014-03-09 06:00:57.498278400+00:00  \n",
       "11519 2014-03-09 06:01:54.996531200+00:00  \n",
       "11520 2014-03-09 06:02:52.494796800+00:00  \n",
       "11521 2014-03-09 06:03:49.993062400+00:00  \n",
       "11522 2014-03-09 06:04:47.491315200+00:00  \n",
       "11523 2014-03-09 06:05:44.989580800+00:00  \n",
       "11524 2014-03-09 06:06:42.487833600+00:00  \n",
       "11525    2014-03-09 06:07:39.986112+00:00  \n",
       "11526 2014-03-09 06:08:37.484377600+00:00  \n",
       "11527 2014-03-09 06:09:34.982630400+00:00  \n",
       "11528    2014-03-09 06:10:32.480896+00:00  \n",
       "11529 2014-03-09 06:11:29.979161600+00:00  \n",
       "11530 2014-03-09 06:12:27.477414400+00:00  \n",
       "11531    2014-03-09 06:13:24.975680+00:00  \n",
       "11532 2014-03-09 06:14:22.473958400+00:00  \n",
       "11533 2014-03-09 06:15:19.972211200+00:00  "
      ]
     },
     "execution_count": 75,
     "metadata": {},
     "output_type": "execute_result"
    }
   ],
   "source": [
    "ace_1min_14_gaps[:20]"
   ]
  },
  {
   "cell_type": "code",
   "execution_count": null,
   "id": "ba89b115",
   "metadata": {},
   "outputs": [],
   "source": []
  },
  {
   "cell_type": "markdown",
   "id": "e15c44b4",
   "metadata": {},
   "source": [
    "####  Look for NaNs"
   ]
  },
  {
   "cell_type": "code",
   "execution_count": 105,
   "id": "443d6264",
   "metadata": {},
   "outputs": [
    {
     "data": {
      "text/html": [
       "<div>\n",
       "<style scoped>\n",
       "    .dataframe tbody tr th:only-of-type {\n",
       "        vertical-align: middle;\n",
       "    }\n",
       "\n",
       "    .dataframe tbody tr th {\n",
       "        vertical-align: top;\n",
       "    }\n",
       "\n",
       "    .dataframe thead th {\n",
       "        text-align: right;\n",
       "    }\n",
       "</style>\n",
       "<table border=\"1\" class=\"dataframe\">\n",
       "  <thead>\n",
       "    <tr style=\"text-align: right;\">\n",
       "      <th></th>\n",
       "      <th>GMTTime</th>\n",
       "      <th>1 Min ACE Average</th>\n",
       "      <th>datetime</th>\n",
       "    </tr>\n",
       "  </thead>\n",
       "  <tbody>\n",
       "    <tr>\n",
       "      <th>325164</th>\n",
       "      <td>2014-10-14T18:05:00Z</td>\n",
       "      <td>NaN</td>\n",
       "      <td>2014-10-14 18:05:00+00:00</td>\n",
       "    </tr>\n",
       "    <tr>\n",
       "      <th>357618</th>\n",
       "      <td>2014-11-06T16:14:00Z</td>\n",
       "      <td>NaN</td>\n",
       "      <td>2014-11-06 16:14:00+00:00</td>\n",
       "    </tr>\n",
       "    <tr>\n",
       "      <th>357619</th>\n",
       "      <td>2014-11-06T16:15:00Z</td>\n",
       "      <td>NaN</td>\n",
       "      <td>2014-11-06 16:15:00+00:00</td>\n",
       "    </tr>\n",
       "    <tr>\n",
       "      <th>357620</th>\n",
       "      <td>2014-11-06T16:16:00Z</td>\n",
       "      <td>NaN</td>\n",
       "      <td>2014-11-06 16:16:00+00:00</td>\n",
       "    </tr>\n",
       "    <tr>\n",
       "      <th>357621</th>\n",
       "      <td>2014-11-06T16:17:00Z</td>\n",
       "      <td>NaN</td>\n",
       "      <td>2014-11-06 16:17:00+00:00</td>\n",
       "    </tr>\n",
       "    <tr>\n",
       "      <th>357622</th>\n",
       "      <td>2014-11-06T16:18:00Z</td>\n",
       "      <td>NaN</td>\n",
       "      <td>2014-11-06 16:18:00+00:00</td>\n",
       "    </tr>\n",
       "    <tr>\n",
       "      <th>357623</th>\n",
       "      <td>2014-11-06T16:19:00Z</td>\n",
       "      <td>NaN</td>\n",
       "      <td>2014-11-06 16:19:00+00:00</td>\n",
       "    </tr>\n",
       "    <tr>\n",
       "      <th>368955</th>\n",
       "      <td>2014-11-14T19:32:00Z</td>\n",
       "      <td>NaN</td>\n",
       "      <td>2014-11-14 19:32:00+00:00</td>\n",
       "    </tr>\n",
       "    <tr>\n",
       "      <th>368956</th>\n",
       "      <td>2014-11-14T19:33:00Z</td>\n",
       "      <td>NaN</td>\n",
       "      <td>2014-11-14 19:33:00+00:00</td>\n",
       "    </tr>\n",
       "    <tr>\n",
       "      <th>368957</th>\n",
       "      <td>2014-11-14T19:34:00Z</td>\n",
       "      <td>NaN</td>\n",
       "      <td>2014-11-14 19:34:00+00:00</td>\n",
       "    </tr>\n",
       "    <tr>\n",
       "      <th>368958</th>\n",
       "      <td>2014-11-14T19:35:00Z</td>\n",
       "      <td>NaN</td>\n",
       "      <td>2014-11-14 19:35:00+00:00</td>\n",
       "    </tr>\n",
       "    <tr>\n",
       "      <th>368959</th>\n",
       "      <td>2014-11-14T19:36:00Z</td>\n",
       "      <td>NaN</td>\n",
       "      <td>2014-11-14 19:36:00+00:00</td>\n",
       "    </tr>\n",
       "    <tr>\n",
       "      <th>368960</th>\n",
       "      <td>2014-11-14T19:37:00Z</td>\n",
       "      <td>NaN</td>\n",
       "      <td>2014-11-14 19:37:00+00:00</td>\n",
       "    </tr>\n",
       "    <tr>\n",
       "      <th>368961</th>\n",
       "      <td>2014-11-14T19:38:00Z</td>\n",
       "      <td>NaN</td>\n",
       "      <td>2014-11-14 19:38:00+00:00</td>\n",
       "    </tr>\n",
       "  </tbody>\n",
       "</table>\n",
       "</div>"
      ],
      "text/plain": [
       "                     GMTTime  1 Min ACE Average                  datetime\n",
       "325164  2014-10-14T18:05:00Z                NaN 2014-10-14 18:05:00+00:00\n",
       "357618  2014-11-06T16:14:00Z                NaN 2014-11-06 16:14:00+00:00\n",
       "357619  2014-11-06T16:15:00Z                NaN 2014-11-06 16:15:00+00:00\n",
       "357620  2014-11-06T16:16:00Z                NaN 2014-11-06 16:16:00+00:00\n",
       "357621  2014-11-06T16:17:00Z                NaN 2014-11-06 16:17:00+00:00\n",
       "357622  2014-11-06T16:18:00Z                NaN 2014-11-06 16:18:00+00:00\n",
       "357623  2014-11-06T16:19:00Z                NaN 2014-11-06 16:19:00+00:00\n",
       "368955  2014-11-14T19:32:00Z                NaN 2014-11-14 19:32:00+00:00\n",
       "368956  2014-11-14T19:33:00Z                NaN 2014-11-14 19:33:00+00:00\n",
       "368957  2014-11-14T19:34:00Z                NaN 2014-11-14 19:34:00+00:00\n",
       "368958  2014-11-14T19:35:00Z                NaN 2014-11-14 19:35:00+00:00\n",
       "368959  2014-11-14T19:36:00Z                NaN 2014-11-14 19:36:00+00:00\n",
       "368960  2014-11-14T19:37:00Z                NaN 2014-11-14 19:37:00+00:00\n",
       "368961  2014-11-14T19:38:00Z                NaN 2014-11-14 19:38:00+00:00"
      ]
     },
     "execution_count": 105,
     "metadata": {},
     "output_type": "execute_result"
    }
   ],
   "source": [
    "ace_1min_14[np.logical_not(np.isfinite(ace_1min_14['1 Min ACE Average']))]"
   ]
  },
  {
   "cell_type": "code",
   "execution_count": 107,
   "id": "bcceedd1",
   "metadata": {},
   "outputs": [
    {
     "data": {
      "text/html": [
       "<div>\n",
       "<style scoped>\n",
       "    .dataframe tbody tr th:only-of-type {\n",
       "        vertical-align: middle;\n",
       "    }\n",
       "\n",
       "    .dataframe tbody tr th {\n",
       "        vertical-align: top;\n",
       "    }\n",
       "\n",
       "    .dataframe thead th {\n",
       "        text-align: right;\n",
       "    }\n",
       "</style>\n",
       "<table border=\"1\" class=\"dataframe\">\n",
       "  <thead>\n",
       "    <tr style=\"text-align: right;\">\n",
       "      <th></th>\n",
       "      <th>GMTTime</th>\n",
       "      <th>1 Min ACE Average</th>\n",
       "      <th>datetime</th>\n",
       "    </tr>\n",
       "  </thead>\n",
       "  <tbody>\n",
       "    <tr>\n",
       "      <th>325164</th>\n",
       "      <td>2014-10-14T18:05:00Z</td>\n",
       "      <td>NaN</td>\n",
       "      <td>2014-10-14 18:05:00+00:00</td>\n",
       "    </tr>\n",
       "    <tr>\n",
       "      <th>357618</th>\n",
       "      <td>2014-11-06T16:14:00Z</td>\n",
       "      <td>NaN</td>\n",
       "      <td>2014-11-06 16:14:00+00:00</td>\n",
       "    </tr>\n",
       "    <tr>\n",
       "      <th>357619</th>\n",
       "      <td>2014-11-06T16:15:00Z</td>\n",
       "      <td>NaN</td>\n",
       "      <td>2014-11-06 16:15:00+00:00</td>\n",
       "    </tr>\n",
       "    <tr>\n",
       "      <th>357620</th>\n",
       "      <td>2014-11-06T16:16:00Z</td>\n",
       "      <td>NaN</td>\n",
       "      <td>2014-11-06 16:16:00+00:00</td>\n",
       "    </tr>\n",
       "    <tr>\n",
       "      <th>357621</th>\n",
       "      <td>2014-11-06T16:17:00Z</td>\n",
       "      <td>NaN</td>\n",
       "      <td>2014-11-06 16:17:00+00:00</td>\n",
       "    </tr>\n",
       "    <tr>\n",
       "      <th>357622</th>\n",
       "      <td>2014-11-06T16:18:00Z</td>\n",
       "      <td>NaN</td>\n",
       "      <td>2014-11-06 16:18:00+00:00</td>\n",
       "    </tr>\n",
       "    <tr>\n",
       "      <th>357623</th>\n",
       "      <td>2014-11-06T16:19:00Z</td>\n",
       "      <td>NaN</td>\n",
       "      <td>2014-11-06 16:19:00+00:00</td>\n",
       "    </tr>\n",
       "    <tr>\n",
       "      <th>368955</th>\n",
       "      <td>2014-11-14T19:32:00Z</td>\n",
       "      <td>NaN</td>\n",
       "      <td>2014-11-14 19:32:00+00:00</td>\n",
       "    </tr>\n",
       "    <tr>\n",
       "      <th>368956</th>\n",
       "      <td>2014-11-14T19:33:00Z</td>\n",
       "      <td>NaN</td>\n",
       "      <td>2014-11-14 19:33:00+00:00</td>\n",
       "    </tr>\n",
       "    <tr>\n",
       "      <th>368957</th>\n",
       "      <td>2014-11-14T19:34:00Z</td>\n",
       "      <td>NaN</td>\n",
       "      <td>2014-11-14 19:34:00+00:00</td>\n",
       "    </tr>\n",
       "    <tr>\n",
       "      <th>368958</th>\n",
       "      <td>2014-11-14T19:35:00Z</td>\n",
       "      <td>NaN</td>\n",
       "      <td>2014-11-14 19:35:00+00:00</td>\n",
       "    </tr>\n",
       "    <tr>\n",
       "      <th>368959</th>\n",
       "      <td>2014-11-14T19:36:00Z</td>\n",
       "      <td>NaN</td>\n",
       "      <td>2014-11-14 19:36:00+00:00</td>\n",
       "    </tr>\n",
       "    <tr>\n",
       "      <th>368960</th>\n",
       "      <td>2014-11-14T19:37:00Z</td>\n",
       "      <td>NaN</td>\n",
       "      <td>2014-11-14 19:37:00+00:00</td>\n",
       "    </tr>\n",
       "    <tr>\n",
       "      <th>368961</th>\n",
       "      <td>2014-11-14T19:38:00Z</td>\n",
       "      <td>NaN</td>\n",
       "      <td>2014-11-14 19:38:00+00:00</td>\n",
       "    </tr>\n",
       "  </tbody>\n",
       "</table>\n",
       "</div>"
      ],
      "text/plain": [
       "                     GMTTime  1 Min ACE Average                  datetime\n",
       "325164  2014-10-14T18:05:00Z                NaN 2014-10-14 18:05:00+00:00\n",
       "357618  2014-11-06T16:14:00Z                NaN 2014-11-06 16:14:00+00:00\n",
       "357619  2014-11-06T16:15:00Z                NaN 2014-11-06 16:15:00+00:00\n",
       "357620  2014-11-06T16:16:00Z                NaN 2014-11-06 16:16:00+00:00\n",
       "357621  2014-11-06T16:17:00Z                NaN 2014-11-06 16:17:00+00:00\n",
       "357622  2014-11-06T16:18:00Z                NaN 2014-11-06 16:18:00+00:00\n",
       "357623  2014-11-06T16:19:00Z                NaN 2014-11-06 16:19:00+00:00\n",
       "368955  2014-11-14T19:32:00Z                NaN 2014-11-14 19:32:00+00:00\n",
       "368956  2014-11-14T19:33:00Z                NaN 2014-11-14 19:33:00+00:00\n",
       "368957  2014-11-14T19:34:00Z                NaN 2014-11-14 19:34:00+00:00\n",
       "368958  2014-11-14T19:35:00Z                NaN 2014-11-14 19:35:00+00:00\n",
       "368959  2014-11-14T19:36:00Z                NaN 2014-11-14 19:36:00+00:00\n",
       "368960  2014-11-14T19:37:00Z                NaN 2014-11-14 19:37:00+00:00\n",
       "368961  2014-11-14T19:38:00Z                NaN 2014-11-14 19:38:00+00:00"
      ]
     },
     "execution_count": 107,
     "metadata": {},
     "output_type": "execute_result"
    }
   ],
   "source": [
    "# https://thispointer.com/pandas-select-rows-with-nan-in-column/\n",
    "ace_1min_14[ace_1min_14['1 Min ACE Average'].isnull()]"
   ]
  },
  {
   "cell_type": "code",
   "execution_count": 109,
   "id": "8a1858e0",
   "metadata": {},
   "outputs": [
    {
     "data": {
      "text/html": [
       "<div>\n",
       "<style scoped>\n",
       "    .dataframe tbody tr th:only-of-type {\n",
       "        vertical-align: middle;\n",
       "    }\n",
       "\n",
       "    .dataframe tbody tr th {\n",
       "        vertical-align: top;\n",
       "    }\n",
       "\n",
       "    .dataframe thead th {\n",
       "        text-align: right;\n",
       "    }\n",
       "</style>\n",
       "<table border=\"1\" class=\"dataframe\">\n",
       "  <thead>\n",
       "    <tr style=\"text-align: right;\">\n",
       "      <th></th>\n",
       "      <th>GMTTime</th>\n",
       "      <th>1 Min ACE Average</th>\n",
       "      <th>datetime</th>\n",
       "    </tr>\n",
       "  </thead>\n",
       "  <tbody>\n",
       "  </tbody>\n",
       "</table>\n",
       "</div>"
      ],
      "text/plain": [
       "Empty DataFrame\n",
       "Columns: [GMTTime, 1 Min ACE Average, datetime]\n",
       "Index: []"
      ]
     },
     "execution_count": 109,
     "metadata": {},
     "output_type": "execute_result"
    }
   ],
   "source": [
    "ace_1min_14[ace_1min_14['GMTTime'].isnull()]"
   ]
  },
  {
   "cell_type": "markdown",
   "id": "eaf705e7",
   "metadata": {},
   "source": [
    "there are 14 NaNs"
   ]
  },
  {
   "cell_type": "markdown",
   "id": "3551d856",
   "metadata": {},
   "source": [
    "### Check holes and NaNs for all data"
   ]
  },
  {
   "cell_type": "code",
   "execution_count": 111,
   "id": "12f0a91b",
   "metadata": {},
   "outputs": [
    {
     "data": {
      "text/html": [
       "<div>\n",
       "<style scoped>\n",
       "    .dataframe tbody tr th:only-of-type {\n",
       "        vertical-align: middle;\n",
       "    }\n",
       "\n",
       "    .dataframe tbody tr th {\n",
       "        vertical-align: top;\n",
       "    }\n",
       "\n",
       "    .dataframe thead th {\n",
       "        text-align: right;\n",
       "    }\n",
       "</style>\n",
       "<table border=\"1\" class=\"dataframe\">\n",
       "  <thead>\n",
       "    <tr style=\"text-align: right;\">\n",
       "      <th></th>\n",
       "      <th>GMTTime</th>\n",
       "      <th>1 Min ACE Average</th>\n",
       "      <th>datetime</th>\n",
       "    </tr>\n",
       "  </thead>\n",
       "  <tbody>\n",
       "    <tr>\n",
       "      <th>0</th>\n",
       "      <td>2014-03-01T06:00:00Z</td>\n",
       "      <td>-26.9910</td>\n",
       "      <td>2014-03-01 06:00:00+00:00</td>\n",
       "    </tr>\n",
       "    <tr>\n",
       "      <th>1</th>\n",
       "      <td>2014-03-01T06:01:00Z</td>\n",
       "      <td>-86.1290</td>\n",
       "      <td>2014-03-01 06:01:00+00:00</td>\n",
       "    </tr>\n",
       "    <tr>\n",
       "      <th>2</th>\n",
       "      <td>2014-03-01T06:02:00Z</td>\n",
       "      <td>-95.1770</td>\n",
       "      <td>2014-03-01 06:02:00+00:00</td>\n",
       "    </tr>\n",
       "    <tr>\n",
       "      <th>3</th>\n",
       "      <td>2014-03-01T06:03:00Z</td>\n",
       "      <td>-69.5760</td>\n",
       "      <td>2014-03-01 06:03:00+00:00</td>\n",
       "    </tr>\n",
       "    <tr>\n",
       "      <th>4</th>\n",
       "      <td>2014-03-01T06:04:00Z</td>\n",
       "      <td>-31.9080</td>\n",
       "      <td>2014-03-01 06:04:00+00:00</td>\n",
       "    </tr>\n",
       "    <tr>\n",
       "      <th>...</th>\n",
       "      <td>...</td>\n",
       "      <td>...</td>\n",
       "      <td>...</td>\n",
       "    </tr>\n",
       "    <tr>\n",
       "      <th>3805682</th>\n",
       "      <td>2022-10-16T04:55:00Z</td>\n",
       "      <td>111.4383</td>\n",
       "      <td>2022-10-16 04:55:00+00:00</td>\n",
       "    </tr>\n",
       "    <tr>\n",
       "      <th>3805683</th>\n",
       "      <td>2022-10-16T04:56:00Z</td>\n",
       "      <td>110.1949</td>\n",
       "      <td>2022-10-16 04:56:00+00:00</td>\n",
       "    </tr>\n",
       "    <tr>\n",
       "      <th>3805684</th>\n",
       "      <td>2022-10-16T04:57:00Z</td>\n",
       "      <td>115.4496</td>\n",
       "      <td>2022-10-16 04:57:00+00:00</td>\n",
       "    </tr>\n",
       "    <tr>\n",
       "      <th>3805685</th>\n",
       "      <td>2022-10-16T04:58:00Z</td>\n",
       "      <td>108.1516</td>\n",
       "      <td>2022-10-16 04:58:00+00:00</td>\n",
       "    </tr>\n",
       "    <tr>\n",
       "      <th>3805686</th>\n",
       "      <td>2022-10-16T04:59:00Z</td>\n",
       "      <td>134.5231</td>\n",
       "      <td>2022-10-16 04:59:00+00:00</td>\n",
       "    </tr>\n",
       "  </tbody>\n",
       "</table>\n",
       "<p>3805687 rows × 3 columns</p>\n",
       "</div>"
      ],
      "text/plain": [
       "                      GMTTime  1 Min ACE Average                  datetime\n",
       "0        2014-03-01T06:00:00Z           -26.9910 2014-03-01 06:00:00+00:00\n",
       "1        2014-03-01T06:01:00Z           -86.1290 2014-03-01 06:01:00+00:00\n",
       "2        2014-03-01T06:02:00Z           -95.1770 2014-03-01 06:02:00+00:00\n",
       "3        2014-03-01T06:03:00Z           -69.5760 2014-03-01 06:03:00+00:00\n",
       "4        2014-03-01T06:04:00Z           -31.9080 2014-03-01 06:04:00+00:00\n",
       "...                       ...                ...                       ...\n",
       "3805682  2022-10-16T04:55:00Z           111.4383 2022-10-16 04:55:00+00:00\n",
       "3805683  2022-10-16T04:56:00Z           110.1949 2022-10-16 04:56:00+00:00\n",
       "3805684  2022-10-16T04:57:00Z           115.4496 2022-10-16 04:57:00+00:00\n",
       "3805685  2022-10-16T04:58:00Z           108.1516 2022-10-16 04:58:00+00:00\n",
       "3805686  2022-10-16T04:59:00Z           134.5231 2022-10-16 04:59:00+00:00\n",
       "\n",
       "[3805687 rows x 3 columns]"
      ]
     },
     "execution_count": 111,
     "metadata": {},
     "output_type": "execute_result"
    }
   ],
   "source": [
    "ace_1min_14_22"
   ]
  },
  {
   "cell_type": "code",
   "execution_count": 110,
   "id": "df689809",
   "metadata": {},
   "outputs": [],
   "source": [
    "ace_1min_14_22['datetime'] = pd.to_datetime(ace_1min_14_22[\"GMTTime\"])"
   ]
  },
  {
   "cell_type": "code",
   "execution_count": 112,
   "id": "a3e531d6",
   "metadata": {},
   "outputs": [],
   "source": [
    "diff_time = ace_1min_14_22[\"datetime\"].diff()"
   ]
  },
  {
   "cell_type": "code",
   "execution_count": 114,
   "id": "ef604d0b",
   "metadata": {},
   "outputs": [],
   "source": [
    "ace_1min_14_22_gaps = ace_1min_14_22[diff_time!= diff_time[100]]"
   ]
  },
  {
   "cell_type": "code",
   "execution_count": 115,
   "id": "aae30008",
   "metadata": {},
   "outputs": [
    {
     "data": {
      "text/html": [
       "<div>\n",
       "<style scoped>\n",
       "    .dataframe tbody tr th:only-of-type {\n",
       "        vertical-align: middle;\n",
       "    }\n",
       "\n",
       "    .dataframe tbody tr th {\n",
       "        vertical-align: top;\n",
       "    }\n",
       "\n",
       "    .dataframe thead th {\n",
       "        text-align: right;\n",
       "    }\n",
       "</style>\n",
       "<table border=\"1\" class=\"dataframe\">\n",
       "  <thead>\n",
       "    <tr style=\"text-align: right;\">\n",
       "      <th></th>\n",
       "      <th>GMTTime</th>\n",
       "      <th>1 Min ACE Average</th>\n",
       "      <th>datetime</th>\n",
       "    </tr>\n",
       "  </thead>\n",
       "  <tbody>\n",
       "    <tr>\n",
       "      <th>0</th>\n",
       "      <td>2014-03-01T06:00:00Z</td>\n",
       "      <td>-26.9910</td>\n",
       "      <td>2014-03-01 06:00:00+00:00</td>\n",
       "    </tr>\n",
       "    <tr>\n",
       "      <th>2336</th>\n",
       "      <td>2014-03-02T20:57:00Z</td>\n",
       "      <td>140.7700</td>\n",
       "      <td>2014-03-02 20:57:00+00:00</td>\n",
       "    </tr>\n",
       "    <tr>\n",
       "      <th>7958</th>\n",
       "      <td>2014-03-06T18:40:00Z</td>\n",
       "      <td>-56.5030</td>\n",
       "      <td>2014-03-06 18:40:00+00:00</td>\n",
       "    </tr>\n",
       "    <tr>\n",
       "      <th>10702</th>\n",
       "      <td>2014-03-08T16:25:00Z</td>\n",
       "      <td>-131.3800</td>\n",
       "      <td>2014-03-08 16:25:00+00:00</td>\n",
       "    </tr>\n",
       "    <tr>\n",
       "      <th>11518</th>\n",
       "      <td>2014-03-09T06:00:57.4982784Z</td>\n",
       "      <td>-60.1820</td>\n",
       "      <td>2014-03-09 06:00:57.498278400+00:00</td>\n",
       "    </tr>\n",
       "    <tr>\n",
       "      <th>...</th>\n",
       "      <td>...</td>\n",
       "      <td>...</td>\n",
       "      <td>...</td>\n",
       "    </tr>\n",
       "    <tr>\n",
       "      <th>3493211</th>\n",
       "      <td>2022-03-13T05:00:00Z</td>\n",
       "      <td>-178.5683</td>\n",
       "      <td>2022-03-13 05:00:00+00:00</td>\n",
       "    </tr>\n",
       "    <tr>\n",
       "      <th>3498620</th>\n",
       "      <td>2022-03-16T23:10:00Z</td>\n",
       "      <td>-189.0903</td>\n",
       "      <td>2022-03-16 23:10:00+00:00</td>\n",
       "    </tr>\n",
       "    <tr>\n",
       "      <th>3548799</th>\n",
       "      <td>2022-04-20T19:30:00Z</td>\n",
       "      <td>-77.3896</td>\n",
       "      <td>2022-04-20 19:30:00+00:00</td>\n",
       "    </tr>\n",
       "    <tr>\n",
       "      <th>3637982</th>\n",
       "      <td>2022-06-21T17:54:00Z</td>\n",
       "      <td>44.9753</td>\n",
       "      <td>2022-06-21 17:54:00+00:00</td>\n",
       "    </tr>\n",
       "    <tr>\n",
       "      <th>3641337</th>\n",
       "      <td>2022-06-24T01:50:00Z</td>\n",
       "      <td>47.3896</td>\n",
       "      <td>2022-06-24 01:50:00+00:00</td>\n",
       "    </tr>\n",
       "  </tbody>\n",
       "</table>\n",
       "<p>12871 rows × 3 columns</p>\n",
       "</div>"
      ],
      "text/plain": [
       "                              GMTTime  1 Min ACE Average  \\\n",
       "0                2014-03-01T06:00:00Z           -26.9910   \n",
       "2336             2014-03-02T20:57:00Z           140.7700   \n",
       "7958             2014-03-06T18:40:00Z           -56.5030   \n",
       "10702            2014-03-08T16:25:00Z          -131.3800   \n",
       "11518    2014-03-09T06:00:57.4982784Z           -60.1820   \n",
       "...                               ...                ...   \n",
       "3493211          2022-03-13T05:00:00Z          -178.5683   \n",
       "3498620          2022-03-16T23:10:00Z          -189.0903   \n",
       "3548799          2022-04-20T19:30:00Z           -77.3896   \n",
       "3637982          2022-06-21T17:54:00Z            44.9753   \n",
       "3641337          2022-06-24T01:50:00Z            47.3896   \n",
       "\n",
       "                                   datetime  \n",
       "0                 2014-03-01 06:00:00+00:00  \n",
       "2336              2014-03-02 20:57:00+00:00  \n",
       "7958              2014-03-06 18:40:00+00:00  \n",
       "10702             2014-03-08 16:25:00+00:00  \n",
       "11518   2014-03-09 06:00:57.498278400+00:00  \n",
       "...                                     ...  \n",
       "3493211           2022-03-13 05:00:00+00:00  \n",
       "3498620           2022-03-16 23:10:00+00:00  \n",
       "3548799           2022-04-20 19:30:00+00:00  \n",
       "3637982           2022-06-21 17:54:00+00:00  \n",
       "3641337           2022-06-24 01:50:00+00:00  \n",
       "\n",
       "[12871 rows x 3 columns]"
      ]
     },
     "execution_count": 115,
     "metadata": {},
     "output_type": "execute_result"
    }
   ],
   "source": [
    "ace_1min_14_22_gaps"
   ]
  },
  {
   "cell_type": "code",
   "execution_count": 116,
   "id": "967a43b0",
   "metadata": {},
   "outputs": [
    {
     "data": {
      "text/plain": [
       "<AxesSubplot:xlabel='datetime'>"
      ]
     },
     "execution_count": 116,
     "metadata": {},
     "output_type": "execute_result"
    },
    {
     "data": {
      "image/png": "[encoded data removed]",
      "text/plain": [
       "<Figure size 640x480 with 1 Axes>"
      ]
     },
     "metadata": {},
     "output_type": "display_data"
    }
   ],
   "source": [
    "ace_1min_14_22_gaps.set_index('datetime').plot(style = '.')"
   ]
  },
  {
   "cell_type": "code",
   "execution_count": 117,
   "id": "9dd669ab",
   "metadata": {},
   "outputs": [],
   "source": [
    "ace_1min_14_22_big_gaps = ace_1min_14_22[diff_time> 2*diff_time[100]]"
   ]
  },
  {
   "cell_type": "code",
   "execution_count": 118,
   "id": "7c637d01",
   "metadata": {},
   "outputs": [
    {
     "data": {
      "text/plain": [
       "<AxesSubplot:xlabel='datetime'>"
      ]
     },
     "execution_count": 118,
     "metadata": {},
     "output_type": "execute_result"
    },
    {
     "data": {
      "image/png": "[encoded data removed]",
      "text/plain": [
       "<Figure size 640x480 with 1 Axes>"
      ]
     },
     "metadata": {},
     "output_type": "display_data"
    }
   ],
   "source": [
    "ace_1min_14_22_big_gaps.set_index('datetime').plot(style = '.')"
   ]
  },
  {
   "cell_type": "code",
   "execution_count": 136,
   "id": "aa692f79",
   "metadata": {},
   "outputs": [
    {
     "data": {
      "text/plain": [
       "<AxesSubplot:xlabel='datetime'>"
      ]
     },
     "execution_count": 136,
     "metadata": {},
     "output_type": "execute_result"
    },
    {
     "data": {
      "image/png": "[encoded data removed]",
      "text/plain": [
       "<Figure size 640x480 with 1 Axes>"
      ]
     },
     "metadata": {},
     "output_type": "display_data"
    }
   ],
   "source": [
    "(ace_1min_14_22[diff_time> 600*diff_time[100]]).set_index('datetime').plot(style = '.')"
   ]
  },
  {
   "cell_type": "code",
   "execution_count": 133,
   "id": "859b79b3",
   "metadata": {},
   "outputs": [
    {
     "data": {
      "text/plain": [
       "1916458     0 days 15:14:00\n",
       "1342590     0 days 15:17:00\n",
       "1929519     0 days 15:37:00\n",
       "1570065     0 days 15:50:00\n",
       "1764071     0 days 15:53:00\n",
       "1125011     0 days 15:57:00\n",
       "1344136     0 days 15:58:00\n",
       "1350236     0 days 16:00:00\n",
       "1818525     0 days 16:14:00\n",
       "1292648     0 days 16:16:00\n",
       "1520393     0 days 16:19:00\n",
       "735539      0 days 16:21:00\n",
       "834998      0 days 16:25:00\n",
       "1354709     0 days 16:27:00\n",
       "838255      0 days 16:31:00\n",
       "1332056     0 days 16:35:00\n",
       "1728604     0 days 16:37:00\n",
       "732507      0 days 16:37:00\n",
       "1768340     0 days 16:47:00\n",
       "1358685     0 days 16:52:00\n",
       "678162      0 days 17:03:00\n",
       "2197630     0 days 17:08:00\n",
       "1816495     0 days 17:12:00\n",
       "1919745     0 days 17:13:00\n",
       "1372876     0 days 17:28:00\n",
       "1348277     0 days 17:32:00\n",
       "1736813     0 days 17:33:00\n",
       "1915931     0 days 17:53:00\n",
       "1853108     0 days 18:03:00\n",
       "1368687     0 days 18:07:00\n",
       "1339565     0 days 18:15:00\n",
       "1321107     0 days 18:20:00\n",
       "800100      0 days 18:22:00\n",
       "1308340     0 days 18:26:00\n",
       "1333781     0 days 18:56:00\n",
       "1726720     0 days 19:07:00\n",
       "800352      0 days 19:19:00\n",
       "2428377     0 days 19:34:00\n",
       "772856      0 days 19:36:00\n",
       "630340      0 days 20:01:00\n",
       "828297      0 days 20:38:00\n",
       "1818058     0 days 21:26:00\n",
       "2046556     0 days 22:09:00\n",
       "2452764     1 days 00:01:00\n",
       "2442708     1 days 00:01:00\n",
       "2333822     1 days 01:59:00\n",
       "2454149     1 days 23:01:00\n",
       "2900036    14 days 00:01:00\n",
       "3409692    14 days 00:01:00\n",
       "2353174   365 days 00:01:00\n",
       "Name: datetime, dtype: timedelta64[ns]"
      ]
     },
     "execution_count": 133,
     "metadata": {},
     "output_type": "execute_result"
    }
   ],
   "source": [
    "diff_time[1:][diff_time> 2*diff_time[100]].sort_values().tail(50)"
   ]
  },
  {
   "cell_type": "markdown",
   "id": "c3647096",
   "metadata": {},
   "source": [
    "There are some pretty big gaps in the data"
   ]
  },
  {
   "cell_type": "code",
   "execution_count": 119,
   "id": "61fb715c",
   "metadata": {},
   "outputs": [
    {
     "data": {
      "text/plain": [
       "(array([557.,   0.,   0.,   0.,   0.,   0.,   0.,   0.,   0.,   1.]),\n",
       " array([3.000000e+00, 5.256280e+04, 1.051226e+05, 1.576824e+05,\n",
       "        2.102422e+05, 2.628020e+05, 3.153618e+05, 3.679216e+05,\n",
       "        4.204814e+05, 4.730412e+05, 5.256010e+05]),\n",
       " <BarContainer object of 10 artists>)"
      ]
     },
     "execution_count": 119,
     "metadata": {},
     "output_type": "execute_result"
    },
    {
     "data": {
      "image/png": "[encoded data removed]",
      "text/plain": [
       "<Figure size 640x480 with 1 Axes>"
      ]
     },
     "metadata": {},
     "output_type": "display_data"
    }
   ],
   "source": [
    "plt.hist((diff_time[1:][diff_time> 2*diff_time[100]]).astype('timedelta64[m]'))\n"
   ]
  },
  {
   "cell_type": "code",
   "execution_count": 137,
   "id": "4247fcb3",
   "metadata": {},
   "outputs": [
    {
     "data": {
      "text/html": [
       "<div>\n",
       "<style scoped>\n",
       "    .dataframe tbody tr th:only-of-type {\n",
       "        vertical-align: middle;\n",
       "    }\n",
       "\n",
       "    .dataframe tbody tr th {\n",
       "        vertical-align: top;\n",
       "    }\n",
       "\n",
       "    .dataframe thead th {\n",
       "        text-align: right;\n",
       "    }\n",
       "</style>\n",
       "<table border=\"1\" class=\"dataframe\">\n",
       "  <thead>\n",
       "    <tr style=\"text-align: right;\">\n",
       "      <th></th>\n",
       "      <th>GMTTime</th>\n",
       "      <th>1 Min ACE Average</th>\n",
       "      <th>datetime</th>\n",
       "    </tr>\n",
       "  </thead>\n",
       "  <tbody>\n",
       "    <tr>\n",
       "      <th>325164</th>\n",
       "      <td>2014-10-14T18:05:00Z</td>\n",
       "      <td>NaN</td>\n",
       "      <td>2014-10-14 18:05:00+00:00</td>\n",
       "    </tr>\n",
       "    <tr>\n",
       "      <th>357618</th>\n",
       "      <td>2014-11-06T16:14:00Z</td>\n",
       "      <td>NaN</td>\n",
       "      <td>2014-11-06 16:14:00+00:00</td>\n",
       "    </tr>\n",
       "    <tr>\n",
       "      <th>357619</th>\n",
       "      <td>2014-11-06T16:15:00Z</td>\n",
       "      <td>NaN</td>\n",
       "      <td>2014-11-06 16:15:00+00:00</td>\n",
       "    </tr>\n",
       "    <tr>\n",
       "      <th>357620</th>\n",
       "      <td>2014-11-06T16:16:00Z</td>\n",
       "      <td>NaN</td>\n",
       "      <td>2014-11-06 16:16:00+00:00</td>\n",
       "    </tr>\n",
       "    <tr>\n",
       "      <th>357621</th>\n",
       "      <td>2014-11-06T16:17:00Z</td>\n",
       "      <td>NaN</td>\n",
       "      <td>2014-11-06 16:17:00+00:00</td>\n",
       "    </tr>\n",
       "    <tr>\n",
       "      <th>...</th>\n",
       "      <td>...</td>\n",
       "      <td>...</td>\n",
       "      <td>...</td>\n",
       "    </tr>\n",
       "    <tr>\n",
       "      <th>1133064</th>\n",
       "      <td>2016-06-29T23:21:00Z</td>\n",
       "      <td>NaN</td>\n",
       "      <td>2016-06-29 23:21:00+00:00</td>\n",
       "    </tr>\n",
       "    <tr>\n",
       "      <th>1133065</th>\n",
       "      <td>2016-06-29T23:22:00Z</td>\n",
       "      <td>NaN</td>\n",
       "      <td>2016-06-29 23:22:00+00:00</td>\n",
       "    </tr>\n",
       "    <tr>\n",
       "      <th>1133066</th>\n",
       "      <td>2016-06-29T23:23:00Z</td>\n",
       "      <td>NaN</td>\n",
       "      <td>2016-06-29 23:23:00+00:00</td>\n",
       "    </tr>\n",
       "    <tr>\n",
       "      <th>1133067</th>\n",
       "      <td>2016-06-29T23:24:00Z</td>\n",
       "      <td>NaN</td>\n",
       "      <td>2016-06-29 23:24:00+00:00</td>\n",
       "    </tr>\n",
       "    <tr>\n",
       "      <th>1741953</th>\n",
       "      <td>2017-10-03T20:21:00Z</td>\n",
       "      <td>NaN</td>\n",
       "      <td>2017-10-03 20:21:00+00:00</td>\n",
       "    </tr>\n",
       "  </tbody>\n",
       "</table>\n",
       "<p>109 rows × 3 columns</p>\n",
       "</div>"
      ],
      "text/plain": [
       "                      GMTTime  1 Min ACE Average                  datetime\n",
       "325164   2014-10-14T18:05:00Z                NaN 2014-10-14 18:05:00+00:00\n",
       "357618   2014-11-06T16:14:00Z                NaN 2014-11-06 16:14:00+00:00\n",
       "357619   2014-11-06T16:15:00Z                NaN 2014-11-06 16:15:00+00:00\n",
       "357620   2014-11-06T16:16:00Z                NaN 2014-11-06 16:16:00+00:00\n",
       "357621   2014-11-06T16:17:00Z                NaN 2014-11-06 16:17:00+00:00\n",
       "...                       ...                ...                       ...\n",
       "1133064  2016-06-29T23:21:00Z                NaN 2016-06-29 23:21:00+00:00\n",
       "1133065  2016-06-29T23:22:00Z                NaN 2016-06-29 23:22:00+00:00\n",
       "1133066  2016-06-29T23:23:00Z                NaN 2016-06-29 23:23:00+00:00\n",
       "1133067  2016-06-29T23:24:00Z                NaN 2016-06-29 23:24:00+00:00\n",
       "1741953  2017-10-03T20:21:00Z                NaN 2017-10-03 20:21:00+00:00\n",
       "\n",
       "[109 rows x 3 columns]"
      ]
     },
     "execution_count": 137,
     "metadata": {},
     "output_type": "execute_result"
    }
   ],
   "source": [
    "ace_1min_14_22[ace_1min_14_22['1 Min ACE Average'].isnull()]"
   ]
  },
  {
   "cell_type": "code",
   "execution_count": 139,
   "id": "b79c6cca",
   "metadata": {},
   "outputs": [],
   "source": [
    "ace_1min_14_22_nan_removed = ace_1min_14_22[np.logical_not(ace_1min_14_22['1 Min ACE Average'].isnull())]"
   ]
  },
  {
   "cell_type": "code",
   "execution_count": 140,
   "id": "19c21835",
   "metadata": {},
   "outputs": [],
   "source": [
    "ace_1min_14_22_nan_removed.to_pickle(\"ace_1min_14_22_nan_removed.pkl\")"
   ]
  },
  {
   "cell_type": "code",
   "execution_count": null,
   "id": "0cc8bc08",
   "metadata": {},
   "outputs": [],
   "source": [
    "#ace_1min_14_22_nan_removed = pd.read_pickle(\"ace_1min_14_22_nan_removed.pkl\")\n"
   ]
  },
  {
   "cell_type": "markdown",
   "id": "b9110473",
   "metadata": {},
   "source": [
    "There are 109 NaNs in data\n",
    "\n",
    "(check original source? Probably not worth it)"
   ]
  },
  {
   "cell_type": "code",
   "execution_count": 141,
   "id": "a2050d12",
   "metadata": {},
   "outputs": [
    {
     "data": {
      "text/html": [
       "<div>\n",
       "<style scoped>\n",
       "    .dataframe tbody tr th:only-of-type {\n",
       "        vertical-align: middle;\n",
       "    }\n",
       "\n",
       "    .dataframe tbody tr th {\n",
       "        vertical-align: top;\n",
       "    }\n",
       "\n",
       "    .dataframe thead th {\n",
       "        text-align: right;\n",
       "    }\n",
       "</style>\n",
       "<table border=\"1\" class=\"dataframe\">\n",
       "  <thead>\n",
       "    <tr style=\"text-align: right;\">\n",
       "      <th></th>\n",
       "      <th>GMTTime</th>\n",
       "      <th>1 Min ACE Average</th>\n",
       "      <th>datetime</th>\n",
       "    </tr>\n",
       "  </thead>\n",
       "  <tbody>\n",
       "    <tr>\n",
       "      <th>0</th>\n",
       "      <td>2014-03-01T06:00:00Z</td>\n",
       "      <td>-26.9910</td>\n",
       "      <td>2014-03-01 06:00:00+00:00</td>\n",
       "    </tr>\n",
       "    <tr>\n",
       "      <th>1</th>\n",
       "      <td>2014-03-01T06:01:00Z</td>\n",
       "      <td>-86.1290</td>\n",
       "      <td>2014-03-01 06:01:00+00:00</td>\n",
       "    </tr>\n",
       "    <tr>\n",
       "      <th>2</th>\n",
       "      <td>2014-03-01T06:02:00Z</td>\n",
       "      <td>-95.1770</td>\n",
       "      <td>2014-03-01 06:02:00+00:00</td>\n",
       "    </tr>\n",
       "    <tr>\n",
       "      <th>3</th>\n",
       "      <td>2014-03-01T06:03:00Z</td>\n",
       "      <td>-69.5760</td>\n",
       "      <td>2014-03-01 06:03:00+00:00</td>\n",
       "    </tr>\n",
       "    <tr>\n",
       "      <th>4</th>\n",
       "      <td>2014-03-01T06:04:00Z</td>\n",
       "      <td>-31.9080</td>\n",
       "      <td>2014-03-01 06:04:00+00:00</td>\n",
       "    </tr>\n",
       "    <tr>\n",
       "      <th>...</th>\n",
       "      <td>...</td>\n",
       "      <td>...</td>\n",
       "      <td>...</td>\n",
       "    </tr>\n",
       "    <tr>\n",
       "      <th>3805682</th>\n",
       "      <td>2022-10-16T04:55:00Z</td>\n",
       "      <td>111.4383</td>\n",
       "      <td>2022-10-16 04:55:00+00:00</td>\n",
       "    </tr>\n",
       "    <tr>\n",
       "      <th>3805683</th>\n",
       "      <td>2022-10-16T04:56:00Z</td>\n",
       "      <td>110.1949</td>\n",
       "      <td>2022-10-16 04:56:00+00:00</td>\n",
       "    </tr>\n",
       "    <tr>\n",
       "      <th>3805684</th>\n",
       "      <td>2022-10-16T04:57:00Z</td>\n",
       "      <td>115.4496</td>\n",
       "      <td>2022-10-16 04:57:00+00:00</td>\n",
       "    </tr>\n",
       "    <tr>\n",
       "      <th>3805685</th>\n",
       "      <td>2022-10-16T04:58:00Z</td>\n",
       "      <td>108.1516</td>\n",
       "      <td>2022-10-16 04:58:00+00:00</td>\n",
       "    </tr>\n",
       "    <tr>\n",
       "      <th>3805686</th>\n",
       "      <td>2022-10-16T04:59:00Z</td>\n",
       "      <td>134.5231</td>\n",
       "      <td>2022-10-16 04:59:00+00:00</td>\n",
       "    </tr>\n",
       "  </tbody>\n",
       "</table>\n",
       "<p>3805578 rows × 3 columns</p>\n",
       "</div>"
      ],
      "text/plain": [
       "                      GMTTime  1 Min ACE Average                  datetime\n",
       "0        2014-03-01T06:00:00Z           -26.9910 2014-03-01 06:00:00+00:00\n",
       "1        2014-03-01T06:01:00Z           -86.1290 2014-03-01 06:01:00+00:00\n",
       "2        2014-03-01T06:02:00Z           -95.1770 2014-03-01 06:02:00+00:00\n",
       "3        2014-03-01T06:03:00Z           -69.5760 2014-03-01 06:03:00+00:00\n",
       "4        2014-03-01T06:04:00Z           -31.9080 2014-03-01 06:04:00+00:00\n",
       "...                       ...                ...                       ...\n",
       "3805682  2022-10-16T04:55:00Z           111.4383 2022-10-16 04:55:00+00:00\n",
       "3805683  2022-10-16T04:56:00Z           110.1949 2022-10-16 04:56:00+00:00\n",
       "3805684  2022-10-16T04:57:00Z           115.4496 2022-10-16 04:57:00+00:00\n",
       "3805685  2022-10-16T04:58:00Z           108.1516 2022-10-16 04:58:00+00:00\n",
       "3805686  2022-10-16T04:59:00Z           134.5231 2022-10-16 04:59:00+00:00\n",
       "\n",
       "[3805578 rows x 3 columns]"
      ]
     },
     "execution_count": 141,
     "metadata": {},
     "output_type": "execute_result"
    }
   ],
   "source": [
    "ace_1min_14_22_nan_removed"
   ]
  }
 ],
 "metadata": {
  "kernelspec": {
   "display_name": "Python 3 (ipykernel)",
   "language": "python",
   "name": "python3"
  },
  "language_info": {
   "codemirror_mode": {
    "name": "ipython",
    "version": 3
   },
   "file_extension": ".py",
   "mimetype": "text/x-python",
   "name": "python",
   "nbconvert_exporter": "python",
   "pygments_lexer": "ipython3",
   "version": "3.9.7"
  }
 },
 "nbformat": 4,
 "nbformat_minor": 5
}
